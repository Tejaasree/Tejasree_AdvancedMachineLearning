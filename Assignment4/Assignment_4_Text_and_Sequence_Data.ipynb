{
  "nbformat": 4,
  "nbformat_minor": 0,
  "metadata": {
    "colab": {
      "provenance": [],
      "machine_shape": "hm",
      "authorship_tag": "ABX9TyNJZJjid5+po0tFqaJ0GacM",
      "include_colab_link": true
    },
    "kernelspec": {
      "name": "python3",
      "display_name": "Python 3"
    },
    "language_info": {
      "name": "python"
    }
  },
  "cells": [
    {
      "cell_type": "markdown",
      "metadata": {
        "id": "view-in-github",
        "colab_type": "text"
      },
      "source": [
        "<a href=\"https://colab.research.google.com/github/Tejaasree/Tejasree_AdvancedMachineLearning/blob/main/Assignment4/Assignment_4_Text_and_Sequence_Data.ipynb\" target=\"_parent\"><img src=\"https://colab.research.google.com/assets/colab-badge.svg\" alt=\"Open In Colab\"/></a>"
      ]
    },
    {
      "cell_type": "markdown",
      "source": [
        "# **Assignment-4**\n",
        "# Text and Sequence"
      ],
      "metadata": {
        "id": "siQTkL2oUljf"
      }
    },
    {
      "cell_type": "markdown",
      "source": [
        "Name: Tejasree Gottam\n",
        "\n",
        "student id: 811358524"
      ],
      "metadata": {
        "id": "xBKZV77wUlgB"
      }
    },
    {
      "cell_type": "code",
      "execution_count": 2,
      "metadata": {
        "colab": {
          "base_uri": "https://localhost:8080/",
          "height": 3238
        },
        "id": "8vyf5MAXdO7I",
        "outputId": "35887fc9-3279-46f3-f39a-0aabcffc436f"
      },
      "outputs": [
        {
          "output_type": "stream",
          "name": "stdout",
          "text": [
            "Collecting tensorflow==2.12\n",
            "  Downloading tensorflow-2.12.0-cp311-cp311-manylinux_2_17_x86_64.manylinux2014_x86_64.whl.metadata (3.4 kB)\n",
            "Requirement already satisfied: absl-py>=1.0.0 in /usr/local/lib/python3.11/dist-packages (from tensorflow==2.12) (1.4.0)\n",
            "Requirement already satisfied: astunparse>=1.6.0 in /usr/local/lib/python3.11/dist-packages (from tensorflow==2.12) (1.6.3)\n",
            "Requirement already satisfied: flatbuffers>=2.0 in /usr/local/lib/python3.11/dist-packages (from tensorflow==2.12) (25.2.10)\n",
            "Collecting gast<=0.4.0,>=0.2.1 (from tensorflow==2.12)\n",
            "  Downloading gast-0.4.0-py3-none-any.whl.metadata (1.1 kB)\n",
            "Requirement already satisfied: google-pasta>=0.1.1 in /usr/local/lib/python3.11/dist-packages (from tensorflow==2.12) (0.2.0)\n",
            "Requirement already satisfied: grpcio<2.0,>=1.24.3 in /usr/local/lib/python3.11/dist-packages (from tensorflow==2.12) (1.71.0)\n",
            "Requirement already satisfied: h5py>=2.9.0 in /usr/local/lib/python3.11/dist-packages (from tensorflow==2.12) (3.13.0)\n",
            "Requirement already satisfied: jax>=0.3.15 in /usr/local/lib/python3.11/dist-packages (from tensorflow==2.12) (0.5.2)\n",
            "Collecting keras<2.13,>=2.12.0 (from tensorflow==2.12)\n",
            "  Downloading keras-2.12.0-py2.py3-none-any.whl.metadata (1.4 kB)\n",
            "Requirement already satisfied: libclang>=13.0.0 in /usr/local/lib/python3.11/dist-packages (from tensorflow==2.12) (18.1.1)\n",
            "Collecting numpy<1.24,>=1.22 (from tensorflow==2.12)\n",
            "  Downloading numpy-1.23.5-cp311-cp311-manylinux_2_17_x86_64.manylinux2014_x86_64.whl.metadata (2.3 kB)\n",
            "Requirement already satisfied: opt-einsum>=2.3.2 in /usr/local/lib/python3.11/dist-packages (from tensorflow==2.12) (3.4.0)\n",
            "Requirement already satisfied: packaging in /usr/local/lib/python3.11/dist-packages (from tensorflow==2.12) (24.2)\n",
            "Collecting protobuf!=4.21.0,!=4.21.1,!=4.21.2,!=4.21.3,!=4.21.4,!=4.21.5,<5.0.0dev,>=3.20.3 (from tensorflow==2.12)\n",
            "  Downloading protobuf-4.25.6-cp37-abi3-manylinux2014_x86_64.whl.metadata (541 bytes)\n",
            "Requirement already satisfied: setuptools in /usr/local/lib/python3.11/dist-packages (from tensorflow==2.12) (75.2.0)\n",
            "Requirement already satisfied: six>=1.12.0 in /usr/local/lib/python3.11/dist-packages (from tensorflow==2.12) (1.17.0)\n",
            "Collecting tensorboard<2.13,>=2.12 (from tensorflow==2.12)\n",
            "  Downloading tensorboard-2.12.3-py3-none-any.whl.metadata (1.8 kB)\n",
            "Collecting tensorflow-estimator<2.13,>=2.12.0 (from tensorflow==2.12)\n",
            "  Downloading tensorflow_estimator-2.12.0-py2.py3-none-any.whl.metadata (1.3 kB)\n",
            "Requirement already satisfied: termcolor>=1.1.0 in /usr/local/lib/python3.11/dist-packages (from tensorflow==2.12) (3.0.1)\n",
            "Requirement already satisfied: typing-extensions>=3.6.6 in /usr/local/lib/python3.11/dist-packages (from tensorflow==2.12) (4.13.2)\n",
            "Collecting wrapt<1.15,>=1.11.0 (from tensorflow==2.12)\n",
            "  Downloading wrapt-1.14.1-cp311-cp311-manylinux_2_5_x86_64.manylinux1_x86_64.manylinux_2_17_x86_64.manylinux2014_x86_64.whl.metadata (6.7 kB)\n",
            "Requirement already satisfied: tensorflow-io-gcs-filesystem>=0.23.1 in /usr/local/lib/python3.11/dist-packages (from tensorflow==2.12) (0.37.1)\n",
            "Requirement already satisfied: wheel<1.0,>=0.23.0 in /usr/local/lib/python3.11/dist-packages (from astunparse>=1.6.0->tensorflow==2.12) (0.45.1)\n",
            "Requirement already satisfied: jaxlib<=0.5.2,>=0.5.1 in /usr/local/lib/python3.11/dist-packages (from jax>=0.3.15->tensorflow==2.12) (0.5.1)\n",
            "Requirement already satisfied: ml_dtypes>=0.4.0 in /usr/local/lib/python3.11/dist-packages (from jax>=0.3.15->tensorflow==2.12) (0.4.1)\n",
            "INFO: pip is looking at multiple versions of jax to determine which version is compatible with other requirements. This could take a while.\n",
            "Collecting jax>=0.3.15 (from tensorflow==2.12)\n",
            "  Downloading jax-0.6.0-py3-none-any.whl.metadata (22 kB)\n",
            "Collecting jaxlib<=0.6.0,>=0.6.0 (from jax>=0.3.15->tensorflow==2.12)\n",
            "  Downloading jaxlib-0.6.0-cp311-cp311-manylinux2014_x86_64.whl.metadata (1.2 kB)\n",
            "Collecting ml_dtypes>=0.5.0 (from jax>=0.3.15->tensorflow==2.12)\n",
            "  Downloading ml_dtypes-0.5.1-cp311-cp311-manylinux_2_17_x86_64.manylinux2014_x86_64.whl.metadata (21 kB)\n",
            "Collecting jax>=0.3.15 (from tensorflow==2.12)\n",
            "  Downloading jax-0.5.3-py3-none-any.whl.metadata (22 kB)\n",
            "Collecting jaxlib<=0.5.3,>=0.5.3 (from jax>=0.3.15->tensorflow==2.12)\n",
            "  Downloading jaxlib-0.5.3-cp311-cp311-manylinux2014_x86_64.whl.metadata (1.2 kB)\n",
            "Collecting jax>=0.3.15 (from tensorflow==2.12)\n",
            "  Downloading jax-0.5.1-py3-none-any.whl.metadata (22 kB)\n",
            "  Downloading jax-0.5.0-py3-none-any.whl.metadata (22 kB)\n",
            "Collecting jaxlib<=0.5.0,>=0.5.0 (from jax>=0.3.15->tensorflow==2.12)\n",
            "  Downloading jaxlib-0.5.0-cp311-cp311-manylinux2014_x86_64.whl.metadata (978 bytes)\n",
            "Collecting jax>=0.3.15 (from tensorflow==2.12)\n",
            "  Downloading jax-0.4.38-py3-none-any.whl.metadata (22 kB)\n",
            "Collecting jaxlib<=0.4.38,>=0.4.38 (from jax>=0.3.15->tensorflow==2.12)\n",
            "  Downloading jaxlib-0.4.38-cp311-cp311-manylinux2014_x86_64.whl.metadata (1.0 kB)\n",
            "Collecting jax>=0.3.15 (from tensorflow==2.12)\n",
            "  Downloading jax-0.4.37-py3-none-any.whl.metadata (22 kB)\n",
            "Collecting jaxlib<=0.4.37,>=0.4.36 (from jax>=0.3.15->tensorflow==2.12)\n",
            "  Downloading jaxlib-0.4.36-cp311-cp311-manylinux2014_x86_64.whl.metadata (1.0 kB)\n",
            "Collecting jax>=0.3.15 (from tensorflow==2.12)\n",
            "  Downloading jax-0.4.36-py3-none-any.whl.metadata (22 kB)\n",
            "INFO: pip is still looking at multiple versions of jax to determine which version is compatible with other requirements. This could take a while.\n",
            "  Downloading jax-0.4.35-py3-none-any.whl.metadata (22 kB)\n",
            "Collecting jaxlib<=0.4.35,>=0.4.34 (from jax>=0.3.15->tensorflow==2.12)\n",
            "  Downloading jaxlib-0.4.35-cp311-cp311-manylinux2014_x86_64.whl.metadata (983 bytes)\n",
            "Collecting jax>=0.3.15 (from tensorflow==2.12)\n",
            "  Downloading jax-0.4.34-py3-none-any.whl.metadata (22 kB)\n",
            "Collecting jaxlib<=0.4.34,>=0.4.34 (from jax>=0.3.15->tensorflow==2.12)\n",
            "  Downloading jaxlib-0.4.34-cp311-cp311-manylinux2014_x86_64.whl.metadata (983 bytes)\n",
            "Collecting jax>=0.3.15 (from tensorflow==2.12)\n",
            "  Downloading jax-0.4.33-py3-none-any.whl.metadata (22 kB)\n",
            "Collecting jaxlib<=0.4.33,>=0.4.33 (from jax>=0.3.15->tensorflow==2.12)\n",
            "  Downloading jaxlib-0.4.33-cp311-cp311-manylinux2014_x86_64.whl.metadata (983 bytes)\n",
            "Collecting jax>=0.3.15 (from tensorflow==2.12)\n",
            "  Downloading jax-0.4.31-py3-none-any.whl.metadata (22 kB)\n",
            "Collecting jaxlib<=0.4.31,>=0.4.30 (from jax>=0.3.15->tensorflow==2.12)\n",
            "  Downloading jaxlib-0.4.31-cp311-cp311-manylinux2014_x86_64.whl.metadata (983 bytes)\n",
            "Collecting jax>=0.3.15 (from tensorflow==2.12)\n",
            "  Downloading jax-0.4.30-py3-none-any.whl.metadata (22 kB)\n",
            "Collecting jaxlib<=0.4.30,>=0.4.27 (from jax>=0.3.15->tensorflow==2.12)\n",
            "  Downloading jaxlib-0.4.30-cp311-cp311-manylinux2014_x86_64.whl.metadata (1.0 kB)\n",
            "Requirement already satisfied: scipy>=1.9 in /usr/local/lib/python3.11/dist-packages (from jax>=0.3.15->tensorflow==2.12) (1.14.1)\n",
            "Requirement already satisfied: google-auth<3,>=1.6.3 in /usr/local/lib/python3.11/dist-packages (from tensorboard<2.13,>=2.12->tensorflow==2.12) (2.38.0)\n",
            "Collecting google-auth-oauthlib<1.1,>=0.5 (from tensorboard<2.13,>=2.12->tensorflow==2.12)\n",
            "  Downloading google_auth_oauthlib-1.0.0-py2.py3-none-any.whl.metadata (2.7 kB)\n",
            "Requirement already satisfied: markdown>=2.6.8 in /usr/local/lib/python3.11/dist-packages (from tensorboard<2.13,>=2.12->tensorflow==2.12) (3.8)\n",
            "Requirement already satisfied: requests<3,>=2.21.0 in /usr/local/lib/python3.11/dist-packages (from tensorboard<2.13,>=2.12->tensorflow==2.12) (2.32.3)\n",
            "Requirement already satisfied: tensorboard-data-server<0.8.0,>=0.7.0 in /usr/local/lib/python3.11/dist-packages (from tensorboard<2.13,>=2.12->tensorflow==2.12) (0.7.2)\n",
            "Requirement already satisfied: werkzeug>=1.0.1 in /usr/local/lib/python3.11/dist-packages (from tensorboard<2.13,>=2.12->tensorflow==2.12) (3.1.3)\n",
            "Requirement already satisfied: cachetools<6.0,>=2.0.0 in /usr/local/lib/python3.11/dist-packages (from google-auth<3,>=1.6.3->tensorboard<2.13,>=2.12->tensorflow==2.12) (5.5.2)\n",
            "Requirement already satisfied: pyasn1-modules>=0.2.1 in /usr/local/lib/python3.11/dist-packages (from google-auth<3,>=1.6.3->tensorboard<2.13,>=2.12->tensorflow==2.12) (0.4.2)\n",
            "Requirement already satisfied: rsa<5,>=3.1.4 in /usr/local/lib/python3.11/dist-packages (from google-auth<3,>=1.6.3->tensorboard<2.13,>=2.12->tensorflow==2.12) (4.9.1)\n",
            "Requirement already satisfied: requests-oauthlib>=0.7.0 in /usr/local/lib/python3.11/dist-packages (from google-auth-oauthlib<1.1,>=0.5->tensorboard<2.13,>=2.12->tensorflow==2.12) (2.0.0)\n",
            "Requirement already satisfied: charset-normalizer<4,>=2 in /usr/local/lib/python3.11/dist-packages (from requests<3,>=2.21.0->tensorboard<2.13,>=2.12->tensorflow==2.12) (3.4.1)\n",
            "Requirement already satisfied: idna<4,>=2.5 in /usr/local/lib/python3.11/dist-packages (from requests<3,>=2.21.0->tensorboard<2.13,>=2.12->tensorflow==2.12) (3.10)\n",
            "Requirement already satisfied: urllib3<3,>=1.21.1 in /usr/local/lib/python3.11/dist-packages (from requests<3,>=2.21.0->tensorboard<2.13,>=2.12->tensorflow==2.12) (2.3.0)\n",
            "Requirement already satisfied: certifi>=2017.4.17 in /usr/local/lib/python3.11/dist-packages (from requests<3,>=2.21.0->tensorboard<2.13,>=2.12->tensorflow==2.12) (2025.1.31)\n",
            "Requirement already satisfied: MarkupSafe>=2.1.1 in /usr/local/lib/python3.11/dist-packages (from werkzeug>=1.0.1->tensorboard<2.13,>=2.12->tensorflow==2.12) (3.0.2)\n",
            "Requirement already satisfied: pyasn1<0.7.0,>=0.6.1 in /usr/local/lib/python3.11/dist-packages (from pyasn1-modules>=0.2.1->google-auth<3,>=1.6.3->tensorboard<2.13,>=2.12->tensorflow==2.12) (0.6.1)\n",
            "Requirement already satisfied: oauthlib>=3.0.0 in /usr/local/lib/python3.11/dist-packages (from requests-oauthlib>=0.7.0->google-auth-oauthlib<1.1,>=0.5->tensorboard<2.13,>=2.12->tensorflow==2.12) (3.2.2)\n",
            "Downloading tensorflow-2.12.0-cp311-cp311-manylinux_2_17_x86_64.manylinux2014_x86_64.whl (586.0 MB)\n",
            "\u001b[2K   \u001b[90m━━━━━━━━━━━━━━━━━━━━━━━━━━━━━━━━━━━━━━━━\u001b[0m \u001b[32m586.0/586.0 MB\u001b[0m \u001b[31m2.3 MB/s\u001b[0m eta \u001b[36m0:00:00\u001b[0m\n",
            "\u001b[?25hDownloading gast-0.4.0-py3-none-any.whl (9.8 kB)\n",
            "Downloading jax-0.4.30-py3-none-any.whl (2.0 MB)\n",
            "\u001b[2K   \u001b[90m━━━━━━━━━━━━━━━━━━━━━━━━━━━━━━━━━━━━━━━━\u001b[0m \u001b[32m2.0/2.0 MB\u001b[0m \u001b[31m80.3 MB/s\u001b[0m eta \u001b[36m0:00:00\u001b[0m\n",
            "\u001b[?25hDownloading keras-2.12.0-py2.py3-none-any.whl (1.7 MB)\n",
            "\u001b[2K   \u001b[90m━━━━━━━━━━━━━━━━━━━━━━━━━━━━━━━━━━━━━━━━\u001b[0m \u001b[32m1.7/1.7 MB\u001b[0m \u001b[31m76.9 MB/s\u001b[0m eta \u001b[36m0:00:00\u001b[0m\n",
            "\u001b[?25hDownloading numpy-1.23.5-cp311-cp311-manylinux_2_17_x86_64.manylinux2014_x86_64.whl (17.1 MB)\n",
            "\u001b[2K   \u001b[90m━━━━━━━━━━━━━━━━━━━━━━━━━━━━━━━━━━━━━━━━\u001b[0m \u001b[32m17.1/17.1 MB\u001b[0m \u001b[31m103.8 MB/s\u001b[0m eta \u001b[36m0:00:00\u001b[0m\n",
            "\u001b[?25hDownloading protobuf-4.25.6-cp37-abi3-manylinux2014_x86_64.whl (294 kB)\n",
            "\u001b[2K   \u001b[90m━━━━━━━━━━━━━━━━━━━━━━━━━━━━━━━━━━━━━━━━\u001b[0m \u001b[32m294.6/294.6 kB\u001b[0m \u001b[31m22.6 MB/s\u001b[0m eta \u001b[36m0:00:00\u001b[0m\n",
            "\u001b[?25hDownloading tensorboard-2.12.3-py3-none-any.whl (5.6 MB)\n",
            "\u001b[2K   \u001b[90m━━━━━━━━━━━━━━━━━━━━━━━━━━━━━━━━━━━━━━━━\u001b[0m \u001b[32m5.6/5.6 MB\u001b[0m \u001b[31m108.3 MB/s\u001b[0m eta \u001b[36m0:00:00\u001b[0m\n",
            "\u001b[?25hDownloading tensorflow_estimator-2.12.0-py2.py3-none-any.whl (440 kB)\n",
            "\u001b[2K   \u001b[90m━━━━━━━━━━━━━━━━━━━━━━━━━━━━━━━━━━━━━━━━\u001b[0m \u001b[32m440.7/440.7 kB\u001b[0m \u001b[31m29.8 MB/s\u001b[0m eta \u001b[36m0:00:00\u001b[0m\n",
            "\u001b[?25hDownloading wrapt-1.14.1-cp311-cp311-manylinux_2_5_x86_64.manylinux1_x86_64.manylinux_2_17_x86_64.manylinux2014_x86_64.whl (78 kB)\n",
            "\u001b[2K   \u001b[90m━━━━━━━━━━━━━━━━━━━━━━━━━━━━━━━━━━━━━━━━\u001b[0m \u001b[32m78.4/78.4 kB\u001b[0m \u001b[31m6.2 MB/s\u001b[0m eta \u001b[36m0:00:00\u001b[0m\n",
            "\u001b[?25hDownloading google_auth_oauthlib-1.0.0-py2.py3-none-any.whl (18 kB)\n",
            "Downloading jaxlib-0.4.30-cp311-cp311-manylinux2014_x86_64.whl (79.6 MB)\n",
            "\u001b[2K   \u001b[90m━━━━━━━━━━━━━━━━━━━━━━━━━━━━━━━━━━━━━━━━\u001b[0m \u001b[32m79.6/79.6 MB\u001b[0m \u001b[31m28.6 MB/s\u001b[0m eta \u001b[36m0:00:00\u001b[0m\n",
            "\u001b[?25hInstalling collected packages: wrapt, tensorflow-estimator, protobuf, numpy, keras, gast, jaxlib, google-auth-oauthlib, tensorboard, jax, tensorflow\n",
            "  Attempting uninstall: wrapt\n",
            "    Found existing installation: wrapt 1.17.2\n",
            "    Uninstalling wrapt-1.17.2:\n",
            "      Successfully uninstalled wrapt-1.17.2\n",
            "  Attempting uninstall: protobuf\n",
            "    Found existing installation: protobuf 5.29.4\n",
            "    Uninstalling protobuf-5.29.4:\n",
            "      Successfully uninstalled protobuf-5.29.4\n",
            "  Attempting uninstall: numpy\n",
            "    Found existing installation: numpy 2.0.2\n",
            "    Uninstalling numpy-2.0.2:\n",
            "      Successfully uninstalled numpy-2.0.2\n",
            "  Attempting uninstall: keras\n",
            "    Found existing installation: keras 3.8.0\n",
            "    Uninstalling keras-3.8.0:\n",
            "      Successfully uninstalled keras-3.8.0\n",
            "  Attempting uninstall: gast\n",
            "    Found existing installation: gast 0.6.0\n",
            "    Uninstalling gast-0.6.0:\n",
            "      Successfully uninstalled gast-0.6.0\n",
            "  Attempting uninstall: jaxlib\n",
            "    Found existing installation: jaxlib 0.5.1\n",
            "    Uninstalling jaxlib-0.5.1:\n",
            "      Successfully uninstalled jaxlib-0.5.1\n",
            "  Attempting uninstall: google-auth-oauthlib\n",
            "    Found existing installation: google-auth-oauthlib 1.2.1\n",
            "    Uninstalling google-auth-oauthlib-1.2.1:\n",
            "      Successfully uninstalled google-auth-oauthlib-1.2.1\n",
            "  Attempting uninstall: tensorboard\n",
            "    Found existing installation: tensorboard 2.18.0\n",
            "    Uninstalling tensorboard-2.18.0:\n",
            "      Successfully uninstalled tensorboard-2.18.0\n",
            "  Attempting uninstall: jax\n",
            "    Found existing installation: jax 0.5.2\n",
            "    Uninstalling jax-0.5.2:\n",
            "      Successfully uninstalled jax-0.5.2\n",
            "  Attempting uninstall: tensorflow\n",
            "    Found existing installation: tensorflow 2.18.0\n",
            "    Uninstalling tensorflow-2.18.0:\n",
            "      Successfully uninstalled tensorflow-2.18.0\n",
            "\u001b[31mERROR: pip's dependency resolver does not currently take into account all the packages that are installed. This behaviour is the source of the following dependency conflicts.\n",
            "thinc 8.3.6 requires numpy<3.0.0,>=2.0.0, but you have numpy 1.23.5 which is incompatible.\n",
            "tensorflow-text 2.18.1 requires tensorflow<2.19,>=2.18.0, but you have tensorflow 2.12.0 which is incompatible.\n",
            "chex 0.1.89 requires numpy>=1.24.1, but you have numpy 1.23.5 which is incompatible.\n",
            "grpcio-status 1.71.0 requires protobuf<6.0dev,>=5.26.1, but you have protobuf 4.25.6 which is incompatible.\n",
            "tf-keras 2.18.0 requires tensorflow<2.19,>=2.18, but you have tensorflow 2.12.0 which is incompatible.\n",
            "xarray 2025.1.2 requires numpy>=1.24, but you have numpy 1.23.5 which is incompatible.\n",
            "bigframes 1.42.0 requires numpy>=1.24.0, but you have numpy 1.23.5 which is incompatible.\n",
            "albumentations 2.0.5 requires numpy>=1.24.4, but you have numpy 1.23.5 which is incompatible.\n",
            "scikit-image 0.25.2 requires numpy>=1.24, but you have numpy 1.23.5 which is incompatible.\n",
            "orbax-checkpoint 0.11.12 requires jax>=0.5.0, but you have jax 0.4.30 which is incompatible.\n",
            "albucore 0.0.23 requires numpy>=1.24.4, but you have numpy 1.23.5 which is incompatible.\n",
            "blosc2 3.3.0 requires numpy>=1.26, but you have numpy 1.23.5 which is incompatible.\n",
            "treescope 0.1.9 requires numpy>=1.25.2, but you have numpy 1.23.5 which is incompatible.\n",
            "tensorflow-decision-forests 1.11.0 requires tensorflow==2.18.0, but you have tensorflow 2.12.0 which is incompatible.\n",
            "imbalanced-learn 0.13.0 requires numpy<3,>=1.24.3, but you have numpy 1.23.5 which is incompatible.\n",
            "ydf 0.11.0 requires protobuf<6.0.0,>=5.29.1, but you have protobuf 4.25.6 which is incompatible.\n",
            "pymc 5.21.2 requires numpy>=1.25.0, but you have numpy 1.23.5 which is incompatible.\n",
            "flax 0.10.5 requires jax>=0.5.1, but you have jax 0.4.30 which is incompatible.\u001b[0m\u001b[31m\n",
            "\u001b[0mSuccessfully installed gast-0.4.0 google-auth-oauthlib-1.0.0 jax-0.4.30 jaxlib-0.4.30 keras-2.12.0 numpy-1.23.5 protobuf-4.25.6 tensorboard-2.12.3 tensorflow-2.12.0 tensorflow-estimator-2.12.0 wrapt-1.14.1\n"
          ]
        },
        {
          "output_type": "display_data",
          "data": {
            "application/vnd.colab-display-data+json": {
              "pip_warning": {
                "packages": [
                  "gast",
                  "jax",
                  "jaxlib",
                  "keras",
                  "numpy",
                  "tensorflow",
                  "wrapt"
                ]
              },
              "id": "99f42ef1e15e4a999da7204aa8753287"
            }
          },
          "metadata": {}
        }
      ],
      "source": [
        "!pip install tensorflow==2.12"
      ]
    },
    {
      "cell_type": "markdown",
      "source": [
        "###Loading the important libraries"
      ],
      "metadata": {
        "id": "khGsw4_Udhnd"
      }
    },
    {
      "cell_type": "code",
      "source": [
        "import matplotlib.pyplot as plt\n",
        "%matplotlib inline\n",
        "import logging\n",
        "logging.getLogger('tensorflow').disabled = True\n"
      ],
      "metadata": {
        "id": "smovsAM5daz0"
      },
      "execution_count": 1,
      "outputs": []
    },
    {
      "cell_type": "markdown",
      "source": [
        "###Importing TensorFlow and Keras:"
      ],
      "metadata": {
        "id": "svDTSa53eAlq"
      }
    },
    {
      "cell_type": "code",
      "source": [
        "from tensorflow import keras\n",
        "from tensorflow.keras import layers\n",
        "from sklearn.model_selection import train_test_split\n",
        "from keras import preprocessing\n",
        "from keras.preprocessing.text import Tokenizer\n",
        "from tensorflow.keras.preprocessing.sequence import pad_sequences\n",
        "from keras.datasets import imdb\n",
        "from keras.models import Sequential\n",
        "from keras.layers import Flatten, Dense, Embedding, LSTM,  Conv1D, MaxPooling1D, GlobalMaxPooling1D, Dropout\n",
        "from keras.models import load_model\n",
        "from keras.optimizers import RMSprop\n",
        "from tensorflow.keras.callbacks import EarlyStopping\n",
        "from tensorflow.keras.callbacks import ModelCheckpoint\n",
        "from tensorflow.keras.optimizers import Adam\n",
        "from google.colab import files\n",
        "import re, os"
      ],
      "metadata": {
        "id": "CMzXELw4eAJi"
      },
      "execution_count": 2,
      "outputs": []
    },
    {
      "cell_type": "markdown",
      "source": [
        "###Considering the IMDB example from Chapter 6. Re-running the example and modifying the by implementing a cutoff for reviews after 150 words, Validation Sample - 10000, Consider only the top 10,000 words\n",
        "##Model 1: Basic model just using embedded layer with Training Sample - 100Creating the training sample with 100 obs , validation with 10,000 obs and test with 5000 obs"
      ],
      "metadata": {
        "id": "g7qJDTpLe4YO"
      }
    },
    {
      "cell_type": "code",
      "source": [
        "from tensorflow.keras.datasets import imdb\n",
        "from tensorflow.keras.preprocessing.sequence import pad_sequences\n",
        "from sklearn.model_selection import train_test_split\n",
        "import numpy as np\n",
        "\n",
        "vocab_limit = 10000\n",
        "sequence_length = 150\n",
        "\n",
        "(raw_train_data, raw_train_labels), (raw_test_data, raw_test_labels) = imdb.load_data(num_words=vocab_limit)\n",
        "\n",
        "padded_train_data = pad_sequences(raw_train_data, maxlen=sequence_length)\n",
        "padded_test_data = pad_sequences(raw_test_data, maxlen=sequence_length)\n",
        "\n",
        "combined_data = np.concatenate((padded_train_data, padded_test_data), axis=0)\n",
        "combined_labels = np.concatenate((raw_train_labels, raw_test_labels), axis=0)\n",
        "\n",
        "x_train_small, x_val_set, y_train_small, y_val_set = train_test_split(\n",
        "    combined_data, combined_labels, train_size=100, test_size=10000, random_state=42, stratify=combined_labels)\n",
        "\n",
        "_, x_test_final, _, y_test_final = train_test_split(\n",
        "    padded_test_data, raw_test_labels, test_size=5000, random_state=42, stratify=raw_test_labels)\n"
      ],
      "metadata": {
        "colab": {
          "base_uri": "https://localhost:8080/",
          "height": 0
        },
        "id": "58wqwcbEe5hv",
        "outputId": "03496338-ae76-40fc-e519-505c11e6e1eb"
      },
      "execution_count": 3,
      "outputs": [
        {
          "output_type": "stream",
          "name": "stdout",
          "text": [
            "Downloading data from https://storage.googleapis.com/tensorflow/tf-keras-datasets/imdb.npz\n",
            "17464789/17464789 [==============================] - 1s 0us/step\n"
          ]
        }
      ]
    },
    {
      "cell_type": "code",
      "source": [
        "x_train_small.shape"
      ],
      "metadata": {
        "colab": {
          "base_uri": "https://localhost:8080/",
          "height": 0
        },
        "id": "wXPDhBOYfVfF",
        "outputId": "82da640d-c0f9-4141-a8b3-5c4f77d56e87"
      },
      "execution_count": 5,
      "outputs": [
        {
          "output_type": "execute_result",
          "data": {
            "text/plain": [
              "(100, 150)"
            ]
          },
          "metadata": {},
          "execution_count": 5
        }
      ]
    },
    {
      "cell_type": "code",
      "source": [
        "x_val_set.shape"
      ],
      "metadata": {
        "colab": {
          "base_uri": "https://localhost:8080/",
          "height": 0
        },
        "id": "l7IIi7L1fkYL",
        "outputId": "57615136-f4a0-4eae-f366-de0f284a556c"
      },
      "execution_count": 6,
      "outputs": [
        {
          "output_type": "execute_result",
          "data": {
            "text/plain": [
              "(10000, 150)"
            ]
          },
          "metadata": {},
          "execution_count": 6
        }
      ]
    },
    {
      "cell_type": "code",
      "source": [
        "x_test_final.shape"
      ],
      "metadata": {
        "colab": {
          "base_uri": "https://localhost:8080/",
          "height": 0
        },
        "id": "_-0OeUMofrvB",
        "outputId": "8845ede4-a731-49e9-e641-5ccaa47123c9"
      },
      "execution_count": 7,
      "outputs": [
        {
          "output_type": "execute_result",
          "data": {
            "text/plain": [
              "(5000, 150)"
            ]
          },
          "metadata": {},
          "execution_count": 7
        }
      ]
    },
    {
      "cell_type": "markdown",
      "source": [
        "###Model Building :"
      ],
      "metadata": {
        "id": "XdEKqrPuf6IH"
      }
    },
    {
      "cell_type": "code",
      "source": [
        "from tensorflow.keras.models import Sequential\n",
        "from tensorflow.keras.layers import Embedding, Flatten, Dense\n",
        "\n",
        "simple_model_v1 = Sequential()\n",
        "\n",
        "simple_model_v1.add(Embedding(input_dim=10000, output_dim=8, input_length=sequence_length))\n",
        "\n",
        "simple_model_v1.add(Flatten())\n",
        "\n",
        "simple_model_v1.add(Dense(units=1, activation='sigmoid'))\n",
        "\n",
        "simple_model_v1.compile(optimizer='rmsprop', loss='binary_crossentropy', metrics=['accuracy'])\n",
        "\n",
        "simple_model_v1.summary()\n"
      ],
      "metadata": {
        "colab": {
          "base_uri": "https://localhost:8080/",
          "height": 0
        },
        "id": "8HlWI8YMfyzl",
        "outputId": "1146ba61-4648-4429-b0af-689cd3cb1b21"
      },
      "execution_count": 8,
      "outputs": [
        {
          "output_type": "stream",
          "name": "stdout",
          "text": [
            "Model: \"sequential\"\n",
            "_________________________________________________________________\n",
            " Layer (type)                Output Shape              Param #   \n",
            "=================================================================\n",
            " embedding (Embedding)       (None, 150, 8)            80000     \n",
            "                                                                 \n",
            " flatten (Flatten)           (None, 1200)              0         \n",
            "                                                                 \n",
            " dense (Dense)               (None, 1)                 1201      \n",
            "                                                                 \n",
            "=================================================================\n",
            "Total params: 81,201\n",
            "Trainable params: 81,201\n",
            "Non-trainable params: 0\n",
            "_________________________________________________________________\n"
          ]
        }
      ]
    },
    {
      "cell_type": "markdown",
      "source": [
        "###Model Execution"
      ],
      "metadata": {
        "id": "ZoUK0obhgOCY"
      }
    },
    {
      "cell_type": "code",
      "source": [
        "from tensorflow.keras.callbacks import ModelCheckpoint\n",
        "\n",
        "model_checkpoint_v1 = ModelCheckpoint(\n",
        "    filepath=\"simple_model_v1.h5\",\n",
        "    save_best_only=True,\n",
        "    monitor=\"val_loss\"\n",
        ")\n",
        "\n",
        "history_v1 = simple_model_v1.fit(\n",
        "    x_train_small, y_train_small,\n",
        "    epochs=30,\n",
        "    batch_size=32,\n",
        "    validation_data=(x_val_set, y_val_set),\n",
        "    callbacks=[model_checkpoint_v1]\n",
        ")\n"
      ],
      "metadata": {
        "colab": {
          "base_uri": "https://localhost:8080/",
          "height": 0
        },
        "id": "3YJPf-9ZgPBX",
        "outputId": "75e76d86-8311-45be-cf73-5e5ebb6fbe26"
      },
      "execution_count": 9,
      "outputs": [
        {
          "output_type": "stream",
          "name": "stdout",
          "text": [
            "Epoch 1/30\n",
            "4/4 [==============================] - 1s 201ms/step - loss: 0.6912 - accuracy: 0.4700 - val_loss: 0.6939 - val_accuracy: 0.4974\n",
            "Epoch 2/30\n",
            "4/4 [==============================] - 0s 131ms/step - loss: 0.6686 - accuracy: 0.8400 - val_loss: 0.6938 - val_accuracy: 0.4977\n",
            "Epoch 3/30\n",
            "4/4 [==============================] - 0s 130ms/step - loss: 0.6524 - accuracy: 0.9400 - val_loss: 0.6938 - val_accuracy: 0.4974\n",
            "Epoch 4/30\n",
            "4/4 [==============================] - 0s 135ms/step - loss: 0.6382 - accuracy: 0.9600 - val_loss: 0.6937 - val_accuracy: 0.4994\n",
            "Epoch 5/30\n",
            "4/4 [==============================] - 0s 129ms/step - loss: 0.6247 - accuracy: 0.9700 - val_loss: 0.6938 - val_accuracy: 0.5006\n",
            "Epoch 6/30\n",
            "4/4 [==============================] - 0s 128ms/step - loss: 0.6116 - accuracy: 0.9700 - val_loss: 0.6937 - val_accuracy: 0.5039\n",
            "Epoch 7/30\n",
            "4/4 [==============================] - 0s 129ms/step - loss: 0.5979 - accuracy: 0.9800 - val_loss: 0.6938 - val_accuracy: 0.5037\n",
            "Epoch 8/30\n",
            "4/4 [==============================] - 0s 136ms/step - loss: 0.5840 - accuracy: 0.9800 - val_loss: 0.6939 - val_accuracy: 0.5042\n",
            "Epoch 9/30\n",
            "4/4 [==============================] - 0s 134ms/step - loss: 0.5695 - accuracy: 0.9800 - val_loss: 0.6942 - val_accuracy: 0.5065\n",
            "Epoch 10/30\n",
            "4/4 [==============================] - 0s 134ms/step - loss: 0.5548 - accuracy: 0.9800 - val_loss: 0.6941 - val_accuracy: 0.5063\n",
            "Epoch 11/30\n",
            "4/4 [==============================] - 0s 138ms/step - loss: 0.5390 - accuracy: 0.9800 - val_loss: 0.6940 - val_accuracy: 0.5061\n",
            "Epoch 12/30\n",
            "4/4 [==============================] - 0s 130ms/step - loss: 0.5230 - accuracy: 0.9900 - val_loss: 0.6938 - val_accuracy: 0.5049\n",
            "Epoch 13/30\n",
            "4/4 [==============================] - 0s 139ms/step - loss: 0.5068 - accuracy: 0.9900 - val_loss: 0.6936 - val_accuracy: 0.5071\n",
            "Epoch 14/30\n",
            "4/4 [==============================] - 0s 137ms/step - loss: 0.4904 - accuracy: 1.0000 - val_loss: 0.6935 - val_accuracy: 0.5088\n",
            "Epoch 15/30\n",
            "4/4 [==============================] - 0s 128ms/step - loss: 0.4736 - accuracy: 1.0000 - val_loss: 0.6937 - val_accuracy: 0.5069\n",
            "Epoch 16/30\n",
            "4/4 [==============================] - 0s 128ms/step - loss: 0.4567 - accuracy: 1.0000 - val_loss: 0.6937 - val_accuracy: 0.5072\n",
            "Epoch 17/30\n",
            "4/4 [==============================] - 0s 137ms/step - loss: 0.4394 - accuracy: 1.0000 - val_loss: 0.6938 - val_accuracy: 0.5092\n",
            "Epoch 18/30\n",
            "4/4 [==============================] - 0s 136ms/step - loss: 0.4222 - accuracy: 1.0000 - val_loss: 0.6941 - val_accuracy: 0.5061\n",
            "Epoch 19/30\n",
            "4/4 [==============================] - 0s 135ms/step - loss: 0.4050 - accuracy: 1.0000 - val_loss: 0.6940 - val_accuracy: 0.5077\n",
            "Epoch 20/30\n",
            "4/4 [==============================] - 0s 133ms/step - loss: 0.3877 - accuracy: 1.0000 - val_loss: 0.6942 - val_accuracy: 0.5066\n",
            "Epoch 21/30\n",
            "4/4 [==============================] - 0s 123ms/step - loss: 0.3706 - accuracy: 1.0000 - val_loss: 0.6946 - val_accuracy: 0.5040\n",
            "Epoch 22/30\n",
            "4/4 [==============================] - 0s 127ms/step - loss: 0.3536 - accuracy: 1.0000 - val_loss: 0.6947 - val_accuracy: 0.5046\n",
            "Epoch 23/30\n",
            "4/4 [==============================] - 0s 128ms/step - loss: 0.3364 - accuracy: 1.0000 - val_loss: 0.6946 - val_accuracy: 0.5078\n",
            "Epoch 24/30\n",
            "4/4 [==============================] - 0s 128ms/step - loss: 0.3197 - accuracy: 1.0000 - val_loss: 0.6949 - val_accuracy: 0.5059\n",
            "Epoch 25/30\n",
            "4/4 [==============================] - 0s 129ms/step - loss: 0.3032 - accuracy: 1.0000 - val_loss: 0.6947 - val_accuracy: 0.5101\n",
            "Epoch 26/30\n",
            "4/4 [==============================] - 0s 129ms/step - loss: 0.2872 - accuracy: 1.0000 - val_loss: 0.6948 - val_accuracy: 0.5118\n",
            "Epoch 27/30\n",
            "4/4 [==============================] - 0s 130ms/step - loss: 0.2712 - accuracy: 1.0000 - val_loss: 0.6951 - val_accuracy: 0.5119\n",
            "Epoch 28/30\n",
            "4/4 [==============================] - 0s 126ms/step - loss: 0.2558 - accuracy: 1.0000 - val_loss: 0.6952 - val_accuracy: 0.5118\n",
            "Epoch 29/30\n",
            "4/4 [==============================] - 0s 130ms/step - loss: 0.2412 - accuracy: 1.0000 - val_loss: 0.6956 - val_accuracy: 0.5126\n",
            "Epoch 30/30\n",
            "4/4 [==============================] - 0s 127ms/step - loss: 0.2271 - accuracy: 1.0000 - val_loss: 0.6958 - val_accuracy: 0.5113\n"
          ]
        }
      ]
    },
    {
      "cell_type": "markdown",
      "source": [
        "####Plotting the Accuracy and loss for training and validation"
      ],
      "metadata": {
        "id": "Eij2SKz4glhv"
      }
    },
    {
      "cell_type": "code",
      "source": [
        "import matplotlib.pyplot as plt\n",
        "\n",
        "train_acc_v1 = history_v1.history['accuracy']\n",
        "val_acc_v1 = history_v1.history['val_accuracy']\n",
        "\n",
        "train_loss_v1 = history_v1.history[\"loss\"]\n",
        "val_loss_v1 = history_v1.history[\"val_loss\"]\n",
        "\n",
        "epochs_v1 = range(1, len(train_acc_v1) + 1)\n",
        "\n",
        "plt.figure(figsize=(6, 4))\n",
        "plt.plot(epochs_v1, train_acc_v1, color=\"grey\", linestyle=\"dashed\", label=\"Training Accuracy\")\n",
        "plt.plot(epochs_v1, val_acc_v1, color=\"blue\", linestyle=\"dashed\", label=\"Validation Accuracy\")\n",
        "plt.title(\"Simple_Model_V1: Accuracy\")\n",
        "plt.legend()\n",
        "plt.figure()\n",
        "\n",
        "plt.figure(figsize=(6, 4))\n",
        "plt.plot(epochs_v1, train_loss_v1, color=\"grey\", linestyle=\"dashed\", label=\"Training Loss\")\n",
        "plt.plot(epochs_v1, val_loss_v1, color=\"blue\", linestyle=\"dashed\", label=\"Validation Loss\")\n",
        "plt.title(\"Simple_Model_V1: Loss\")\n",
        "plt.legend()\n",
        "plt.show()\n"
      ],
      "metadata": {
        "colab": {
          "base_uri": "https://localhost:8080/",
          "height": 782
        },
        "id": "t28PHGcogmeK",
        "outputId": "f4840ebb-5da9-4ce6-c2dc-a5ff15c15467"
      },
      "execution_count": 10,
      "outputs": [
        {
          "output_type": "display_data",
          "data": {
            "text/plain": [
              "<Figure size 600x400 with 1 Axes>"
            ],
            "image/png": "[encoded data removed]"
          },
          "metadata": {}
        },
        {
          "output_type": "display_data",
          "data": {
            "text/plain": [
              "<Figure size 640x480 with 0 Axes>"
            ]
          },
          "metadata": {}
        },
        {
          "output_type": "display_data",
          "data": {
            "text/plain": [
              "<Figure size 600x400 with 1 Axes>"
            ],
            "image/png": "[encoded data removed]"
          },
          "metadata": {}
        }
      ]
    },
    {
      "cell_type": "code",
      "source": [
        "from tensorflow.keras.models import load_model\n",
        "\n",
        "# Loading the saved model\n",
        "loaded_model_v1 = load_model('simple_model_v1.h5')\n",
        "\n",
        "# Evaluating the model on the test data\n",
        "eval_results_v1 = loaded_model_v1.evaluate(x_test_final, y_test_final)\n",
        "\n",
        "# Printing the results (Loss and Accuracy)\n",
        "print(f'Loss: {eval_results_v1[0]:.3f}')\n",
        "print(f'Accuracy: {eval_results_v1[1]:.3f}')\n"
      ],
      "metadata": {
        "colab": {
          "base_uri": "https://localhost:8080/",
          "height": 0
        },
        "id": "ft1VxumEg9aZ",
        "outputId": "1a0b123f-88e7-401e-dab1-f6f79cc6f924"
      },
      "execution_count": 11,
      "outputs": [
        {
          "output_type": "stream",
          "name": "stdout",
          "text": [
            "157/157 [==============================] - 0s 1ms/step - loss: 0.6931 - accuracy: 0.5078\n",
            "Loss: 0.693\n",
            "Accuracy: 0.508\n"
          ]
        }
      ]
    },
    {
      "cell_type": "markdown",
      "source": [
        "####The model built with training sample of 100 and just one embedded layer gave the loss as 0.693 and accuracy of 0.512 that means the model has performed well for a training sample of 100. Now let us try building the model with the training sample of 5000."
      ],
      "metadata": {
        "id": "jm9r1fmnhCcg"
      }
    },
    {
      "cell_type": "markdown",
      "source": [
        "##Model 2: Basic model just using embedded layer with Training Sample - 5,000"
      ],
      "metadata": {
        "id": "zZTuBxYmhHJS"
      }
    },
    {
      "cell_type": "code",
      "source": [
        "from tensorflow.keras.datasets import imdb\n",
        "from tensorflow.keras.preprocessing.sequence import pad_sequences\n",
        "from sklearn.model_selection import train_test_split\n",
        "import numpy as np\n",
        "\n",
        "max_vocab = 10000\n",
        "max_seq_len = 150\n",
        "\n",
        "((raw_x_train, raw_y_train), (raw_x_test, raw_y_test)) = imdb.load_data(num_words=max_vocab)\n",
        "padded_x_train = pad_sequences(raw_x_train, maxlen=max_seq_len)\n",
        "padded_x_test = pad_sequences(raw_x_test, maxlen=max_seq_len)\n",
        "\n",
        "merged_inputs = np.concatenate((padded_x_train, padded_x_test), axis=0)\n",
        "merged_labels = np.concatenate((raw_y_train, raw_y_test), axis=0)\n",
        "\n",
        "x_train_rnn, x_val_rnn, y_train_rnn, y_val_rnn = train_test_split(\n",
        "    merged_inputs, merged_labels, train_size=5000, test_size=10000, random_state=42, stratify=merged_labels\n",
        ")\n",
        "\n",
        "_, x_test_rnn, _, y_test_rnn = train_test_split(\n",
        "    padded_x_test, raw_y_test, test_size=5000, random_state=42, stratify=raw_y_test\n",
        ")\n"
      ],
      "metadata": {
        "id": "URnID879hDL6"
      },
      "execution_count": 12,
      "outputs": []
    },
    {
      "cell_type": "code",
      "source": [
        "x_train_rnn.shape"
      ],
      "metadata": {
        "colab": {
          "base_uri": "https://localhost:8080/",
          "height": 0
        },
        "id": "Lhhene9Uhrwy",
        "outputId": "a7205397-e3b9-4543-aee5-5adc4a07be11"
      },
      "execution_count": 13,
      "outputs": [
        {
          "output_type": "execute_result",
          "data": {
            "text/plain": [
              "(5000, 150)"
            ]
          },
          "metadata": {},
          "execution_count": 13
        }
      ]
    },
    {
      "cell_type": "code",
      "source": [
        "x_val_rnn.shape"
      ],
      "metadata": {
        "colab": {
          "base_uri": "https://localhost:8080/",
          "height": 0
        },
        "id": "nmq0JtgBhzeR",
        "outputId": "c4ce0338-0443-4b4b-aca0-521de86afb0b"
      },
      "execution_count": 14,
      "outputs": [
        {
          "output_type": "execute_result",
          "data": {
            "text/plain": [
              "(10000, 150)"
            ]
          },
          "metadata": {},
          "execution_count": 14
        }
      ]
    },
    {
      "cell_type": "code",
      "source": [
        "x_test_rnn.shape"
      ],
      "metadata": {
        "colab": {
          "base_uri": "https://localhost:8080/",
          "height": 0
        },
        "id": "iJUCGKKvh1ls",
        "outputId": "bbba1add-825c-459f-85ce-204c4e8e21f0"
      },
      "execution_count": 15,
      "outputs": [
        {
          "output_type": "execute_result",
          "data": {
            "text/plain": [
              "(5000, 150)"
            ]
          },
          "metadata": {},
          "execution_count": 15
        }
      ]
    },
    {
      "cell_type": "markdown",
      "source": [
        "###Model Building :"
      ],
      "metadata": {
        "id": "fb1xysZMh9uA"
      }
    },
    {
      "cell_type": "code",
      "source": [
        "from tensorflow.keras.models import Sequential\n",
        "from tensorflow.keras.layers import Embedding, Flatten, Dense\n",
        "\n",
        "flat_model_rnn = Sequential()\n",
        "flat_model_rnn.add(Embedding(input_dim=10000, output_dim=8, input_length=max_seq_len))\n",
        "flat_model_rnn.add(Flatten())\n",
        "flat_model_rnn.add(Dense(units=1, activation='sigmoid'))\n",
        "\n",
        "flat_model_rnn.compile(optimizer='rmsprop', loss='binary_crossentropy', metrics=['accuracy'])\n",
        "\n",
        "flat_model_rnn.summary()"
      ],
      "metadata": {
        "colab": {
          "base_uri": "https://localhost:8080/",
          "height": 0
        },
        "id": "mroKH7O7h-r-",
        "outputId": "d3c5d5af-0fe7-49e0-d685-166369714cf7"
      },
      "execution_count": 16,
      "outputs": [
        {
          "output_type": "stream",
          "name": "stdout",
          "text": [
            "Model: \"sequential_1\"\n",
            "_________________________________________________________________\n",
            " Layer (type)                Output Shape              Param #   \n",
            "=================================================================\n",
            " embedding_1 (Embedding)     (None, 150, 8)            80000     \n",
            "                                                                 \n",
            " flatten_1 (Flatten)         (None, 1200)              0         \n",
            "                                                                 \n",
            " dense_1 (Dense)             (None, 1)                 1201      \n",
            "                                                                 \n",
            "=================================================================\n",
            "Total params: 81,201\n",
            "Trainable params: 81,201\n",
            "Non-trainable params: 0\n",
            "_________________________________________________________________\n"
          ]
        }
      ]
    },
    {
      "cell_type": "code",
      "source": [
        "from tensorflow.keras.callbacks import ModelCheckpoint\n",
        "\n",
        "checkpoint_rnn = ModelCheckpoint(\n",
        "    filepath=\"flat_model_rnn.h5\",\n",
        "    save_best_only=True,\n",
        "    monitor=\"val_loss\"\n",
        ")\n",
        "\n",
        "history_rnn = flat_model_rnn.fit(\n",
        "    x_train_rnn, y_train_rnn,\n",
        "    epochs=30,\n",
        "    batch_size=32,\n",
        "    validation_data=(x_val_rnn, y_val_rnn),\n",
        "    callbacks=[checkpoint_rnn]\n",
        ")\n"
      ],
      "metadata": {
        "colab": {
          "base_uri": "https://localhost:8080/",
          "height": 0
        },
        "id": "YnxVb3yviVtK",
        "outputId": "4806e58e-0d32-4913-a672-f172305f31f6"
      },
      "execution_count": 17,
      "outputs": [
        {
          "output_type": "stream",
          "name": "stdout",
          "text": [
            "Epoch 1/30\n",
            "157/157 [==============================] - 1s 6ms/step - loss: 0.6903 - accuracy: 0.5446 - val_loss: 0.6840 - val_accuracy: 0.6049\n",
            "Epoch 2/30\n",
            "157/157 [==============================] - 1s 5ms/step - loss: 0.6459 - accuracy: 0.7588 - val_loss: 0.6261 - val_accuracy: 0.7218\n",
            "Epoch 3/30\n",
            "157/157 [==============================] - 1s 5ms/step - loss: 0.5362 - accuracy: 0.8308 - val_loss: 0.5246 - val_accuracy: 0.7874\n",
            "Epoch 4/30\n",
            "157/157 [==============================] - 1s 5ms/step - loss: 0.4102 - accuracy: 0.8764 - val_loss: 0.4425 - val_accuracy: 0.8167\n",
            "Epoch 5/30\n",
            "157/157 [==============================] - 1s 5ms/step - loss: 0.3147 - accuracy: 0.9090 - val_loss: 0.3983 - val_accuracy: 0.8276\n",
            "Epoch 6/30\n",
            "157/157 [==============================] - 1s 5ms/step - loss: 0.2488 - accuracy: 0.9306 - val_loss: 0.3739 - val_accuracy: 0.8354\n",
            "Epoch 7/30\n",
            "157/157 [==============================] - 1s 4ms/step - loss: 0.1998 - accuracy: 0.9426 - val_loss: 0.3615 - val_accuracy: 0.8399\n",
            "Epoch 8/30\n",
            "157/157 [==============================] - 1s 5ms/step - loss: 0.1617 - accuracy: 0.9590 - val_loss: 0.3557 - val_accuracy: 0.8440\n",
            "Epoch 9/30\n",
            "157/157 [==============================] - 1s 5ms/step - loss: 0.1299 - accuracy: 0.9700 - val_loss: 0.3549 - val_accuracy: 0.8463\n",
            "Epoch 10/30\n",
            "157/157 [==============================] - 1s 5ms/step - loss: 0.1041 - accuracy: 0.9802 - val_loss: 0.3569 - val_accuracy: 0.8457\n",
            "Epoch 11/30\n",
            "157/157 [==============================] - 1s 5ms/step - loss: 0.0826 - accuracy: 0.9858 - val_loss: 0.3619 - val_accuracy: 0.8441\n",
            "Epoch 12/30\n",
            "157/157 [==============================] - 1s 5ms/step - loss: 0.0647 - accuracy: 0.9906 - val_loss: 0.3691 - val_accuracy: 0.8441\n",
            "Epoch 13/30\n",
            "157/157 [==============================] - 1s 5ms/step - loss: 0.0501 - accuracy: 0.9944 - val_loss: 0.3875 - val_accuracy: 0.8362\n",
            "Epoch 14/30\n",
            "157/157 [==============================] - 1s 5ms/step - loss: 0.0386 - accuracy: 0.9968 - val_loss: 0.3876 - val_accuracy: 0.8416\n",
            "Epoch 15/30\n",
            "157/157 [==============================] - 1s 5ms/step - loss: 0.0292 - accuracy: 0.9988 - val_loss: 0.4027 - val_accuracy: 0.8402\n",
            "Epoch 16/30\n",
            "157/157 [==============================] - 1s 5ms/step - loss: 0.0222 - accuracy: 0.9990 - val_loss: 0.4127 - val_accuracy: 0.8376\n",
            "Epoch 17/30\n",
            "157/157 [==============================] - 1s 5ms/step - loss: 0.0168 - accuracy: 0.9994 - val_loss: 0.4327 - val_accuracy: 0.8368\n",
            "Epoch 18/30\n",
            "157/157 [==============================] - 1s 5ms/step - loss: 0.0129 - accuracy: 0.9996 - val_loss: 0.4396 - val_accuracy: 0.8365\n",
            "Epoch 19/30\n",
            "157/157 [==============================] - 1s 5ms/step - loss: 0.0098 - accuracy: 0.9996 - val_loss: 0.4553 - val_accuracy: 0.8346\n",
            "Epoch 20/30\n",
            "157/157 [==============================] - 1s 4ms/step - loss: 0.0076 - accuracy: 0.9996 - val_loss: 0.4687 - val_accuracy: 0.8337\n",
            "Epoch 21/30\n",
            "157/157 [==============================] - 1s 4ms/step - loss: 0.0059 - accuracy: 0.9996 - val_loss: 0.4839 - val_accuracy: 0.8334\n",
            "Epoch 22/30\n",
            "157/157 [==============================] - 1s 4ms/step - loss: 0.0048 - accuracy: 0.9998 - val_loss: 0.4938 - val_accuracy: 0.8343\n",
            "Epoch 23/30\n",
            "157/157 [==============================] - 1s 4ms/step - loss: 0.0038 - accuracy: 0.9998 - val_loss: 0.5058 - val_accuracy: 0.8349\n",
            "Epoch 24/30\n",
            "157/157 [==============================] - 1s 5ms/step - loss: 0.0032 - accuracy: 0.9998 - val_loss: 0.5165 - val_accuracy: 0.8328\n",
            "Epoch 25/30\n",
            "157/157 [==============================] - 1s 4ms/step - loss: 0.0027 - accuracy: 0.9998 - val_loss: 0.5269 - val_accuracy: 0.8325\n",
            "Epoch 26/30\n",
            "157/157 [==============================] - 1s 4ms/step - loss: 0.0023 - accuracy: 1.0000 - val_loss: 0.5384 - val_accuracy: 0.8320\n",
            "Epoch 27/30\n",
            "157/157 [==============================] - 1s 4ms/step - loss: 0.0020 - accuracy: 1.0000 - val_loss: 0.5462 - val_accuracy: 0.8318\n",
            "Epoch 28/30\n",
            "157/157 [==============================] - 1s 4ms/step - loss: 0.0017 - accuracy: 1.0000 - val_loss: 0.5537 - val_accuracy: 0.8316\n",
            "Epoch 29/30\n",
            "157/157 [==============================] - 1s 4ms/step - loss: 0.0015 - accuracy: 1.0000 - val_loss: 0.5613 - val_accuracy: 0.8313\n",
            "Epoch 30/30\n",
            "157/157 [==============================] - 1s 4ms/step - loss: 0.0013 - accuracy: 1.0000 - val_loss: 0.5686 - val_accuracy: 0.8317\n"
          ]
        }
      ]
    },
    {
      "cell_type": "markdown",
      "source": [
        "###Plotting the Accuracy and loss for training and validation"
      ],
      "metadata": {
        "id": "iqkdSJGRifHr"
      }
    },
    {
      "cell_type": "code",
      "source": [
        "import matplotlib.pyplot as plt\n",
        "\n",
        "val_acc_rnn = history_rnn.history['val_accuracy']\n",
        "train_loss_rnn = history_rnn.history['loss']\n",
        "val_loss_rnn = history_rnn.history['val_loss']\n",
        "train_acc_rnn = history_rnn.history['accuracy']\n",
        "\n",
        "epochs_rnn = range(1, len(train_acc_rnn) + 1)\n",
        "\n",
        "plt.figure(figsize=(6, 4))\n",
        "plt.plot(epochs_rnn, train_acc_rnn, color=\"grey\", linestyle=\"dashed\", label=\"Training Accuracy\")\n",
        "plt.plot(epochs_rnn, val_acc_rnn, color=\"blue\", linestyle=\"dashed\", label=\"Validation Accuracy\")\n",
        "plt.title(\"Flat_Model_RNN: Accuracy\")\n",
        "plt.legend()\n",
        "plt.figure()\n",
        "\n",
        "plt.figure(figsize=(6, 4))\n",
        "plt.plot(epochs_rnn, train_loss_rnn, color=\"grey\", linestyle=\"dashed\", label=\"Training Loss\")\n",
        "plt.plot(epochs_rnn, val_loss_rnn, color=\"blue\", linestyle=\"dashed\", label=\"Validation Loss\")\n",
        "plt.title(\"Flat_Model_RNN: Loss\")\n",
        "plt.legend()\n",
        "plt.show()\n"
      ],
      "metadata": {
        "colab": {
          "base_uri": "https://localhost:8080/",
          "height": 782
        },
        "id": "qalZ_OHAigBf",
        "outputId": "c221be6c-7f8f-4a62-c65d-2af32ea209fb"
      },
      "execution_count": 18,
      "outputs": [
        {
          "output_type": "display_data",
          "data": {
            "text/plain": [
              "<Figure size 600x400 with 1 Axes>"
            ],
            "image/png": "[encoded data removed]"
          },
          "metadata": {}
        },
        {
          "output_type": "display_data",
          "data": {
            "text/plain": [
              "<Figure size 640x480 with 0 Axes>"
            ]
          },
          "metadata": {}
        },
        {
          "output_type": "display_data",
          "data": {
            "text/plain": [
              "<Figure size 600x400 with 1 Axes>"
            ],
            "image/png": "[encoded data removed]"
          },
          "metadata": {}
        }
      ]
    },
    {
      "cell_type": "code",
      "source": [
        "from tensorflow.keras.models import load_model\n",
        "\n",
        "loaded_rnn_model = load_model('flat_model_rnn.h5')\n",
        "\n",
        "eval_results_rnn = loaded_rnn_model.evaluate(x_test_rnn, y_test_rnn)\n",
        "print(f'Loss: {eval_results_rnn[0]:.3f}')\n",
        "print(f'Accuracy: {eval_results_rnn[1]:.3f}')\n"
      ],
      "metadata": {
        "colab": {
          "base_uri": "https://localhost:8080/",
          "height": 0
        },
        "id": "-FgnFhkUi4Ge",
        "outputId": "f173f2d4-4eb2-4523-8817-8a0fc8158845"
      },
      "execution_count": 19,
      "outputs": [
        {
          "output_type": "stream",
          "name": "stdout",
          "text": [
            "157/157 [==============================] - 1s 1ms/step - loss: 0.3169 - accuracy: 0.8622\n",
            "Loss: 0.317\n",
            "Accuracy: 0.862\n"
          ]
        }
      ]
    },
    {
      "cell_type": "markdown",
      "source": [
        "##Model 3: Basic model just using embedded layer with Training Sample - 10,000"
      ],
      "metadata": {
        "id": "W25rArenjB9_"
      }
    },
    {
      "cell_type": "code",
      "source": [
        "from tensorflow.keras.datasets import imdb\n",
        "from tensorflow.keras.preprocessing.sequence import pad_sequences\n",
        "from sklearn.model_selection import train_test_split\n",
        "import numpy as np\n",
        "\n",
        "token_limit = 10000\n",
        "seq_length = 150\n",
        "\n",
        "((train_raw_seq, train_raw_lbl), (test_raw_seq, test_raw_lbl)) = imdb.load_data(num_words=token_limit)\n",
        "train_seq_padded = pad_sequences(train_raw_seq, maxlen=seq_length)\n",
        "test_seq_padded = pad_sequences(test_raw_seq, maxlen=seq_length)\n",
        "\n",
        "all_padded_seq = np.concatenate((train_seq_padded, test_seq_padded), axis=0)\n",
        "all_seq_labels = np.concatenate((train_raw_lbl, test_raw_lbl), axis=0)\n",
        "\n",
        "x_train_seq, x_val_seq, y_train_seq, y_val_seq = train_test_split(\n",
        "    all_padded_seq, all_seq_labels, train_size=10000, test_size=10000, random_state=42, stratify=all_seq_labels\n",
        ")\n",
        "\n",
        "_, x_test_seq, _, y_test_seq = train_test_split(\n",
        "    test_seq_padded, test_raw_lbl, test_size=5000, random_state=42, stratify=test_raw_lbl\n",
        ")\n"
      ],
      "metadata": {
        "id": "KAzEdddojC_F"
      },
      "execution_count": 20,
      "outputs": []
    },
    {
      "cell_type": "code",
      "source": [
        "x_train_seq.shape"
      ],
      "metadata": {
        "colab": {
          "base_uri": "https://localhost:8080/",
          "height": 0
        },
        "id": "Bifx6E3mjiDT",
        "outputId": "5d6f1cc0-d2f1-4204-9132-3c02094f6c83"
      },
      "execution_count": 21,
      "outputs": [
        {
          "output_type": "execute_result",
          "data": {
            "text/plain": [
              "(10000, 150)"
            ]
          },
          "metadata": {},
          "execution_count": 21
        }
      ]
    },
    {
      "cell_type": "code",
      "source": [
        "x_val_seq.shape"
      ],
      "metadata": {
        "colab": {
          "base_uri": "https://localhost:8080/",
          "height": 0
        },
        "id": "MzNauwGIjoC9",
        "outputId": "dc8b9f89-1d45-48c6-fa1a-abe6e2aa9871"
      },
      "execution_count": 22,
      "outputs": [
        {
          "output_type": "execute_result",
          "data": {
            "text/plain": [
              "(10000, 150)"
            ]
          },
          "metadata": {},
          "execution_count": 22
        }
      ]
    },
    {
      "cell_type": "code",
      "source": [
        "x_test_seq.shape"
      ],
      "metadata": {
        "colab": {
          "base_uri": "https://localhost:8080/",
          "height": 0
        },
        "id": "LZdU3zRxjqOB",
        "outputId": "3d7cb4d1-ec8f-43f8-b6fe-699e740789ce"
      },
      "execution_count": 23,
      "outputs": [
        {
          "output_type": "execute_result",
          "data": {
            "text/plain": [
              "(5000, 150)"
            ]
          },
          "metadata": {},
          "execution_count": 23
        }
      ]
    },
    {
      "cell_type": "markdown",
      "source": [
        "####Model Building :"
      ],
      "metadata": {
        "id": "8kbF_rVvjzbG"
      }
    },
    {
      "cell_type": "code",
      "source": [
        "from tensorflow.keras.models import Sequential\n",
        "from tensorflow.keras.layers import Embedding, Flatten, Dense\n",
        "\n",
        "flat_model_seq = Sequential()\n",
        "flat_model_seq.add(Embedding(input_dim=10000, output_dim=8, input_length=seq_length))\n",
        "flat_model_seq.add(Flatten())\n",
        "flat_model_seq.add(Dense(units=1, activation='sigmoid'))\n",
        "\n",
        "flat_model_seq.compile(optimizer='rmsprop', loss='binary_crossentropy', metrics=['accuracy'])\n",
        "\n",
        "flat_model_seq.summary()\n"
      ],
      "metadata": {
        "colab": {
          "base_uri": "https://localhost:8080/",
          "height": 0
        },
        "id": "9o7qwivnj0Rf",
        "outputId": "275a6ce7-2225-41c3-cde1-bfe6fd2ed1ac"
      },
      "execution_count": 24,
      "outputs": [
        {
          "output_type": "stream",
          "name": "stdout",
          "text": [
            "Model: \"sequential_2\"\n",
            "_________________________________________________________________\n",
            " Layer (type)                Output Shape              Param #   \n",
            "=================================================================\n",
            " embedding_2 (Embedding)     (None, 150, 8)            80000     \n",
            "                                                                 \n",
            " flatten_2 (Flatten)         (None, 1200)              0         \n",
            "                                                                 \n",
            " dense_2 (Dense)             (None, 1)                 1201      \n",
            "                                                                 \n",
            "=================================================================\n",
            "Total params: 81,201\n",
            "Trainable params: 81,201\n",
            "Non-trainable params: 0\n",
            "_________________________________________________________________\n"
          ]
        }
      ]
    },
    {
      "cell_type": "code",
      "source": [
        "from tensorflow.keras.callbacks import ModelCheckpoint\n",
        "\n",
        "checkpoint_seq = ModelCheckpoint(\n",
        "    filepath=\"flat_model_seq.h5\",\n",
        "    save_best_only=True,\n",
        "    monitor=\"val_loss\"\n",
        ")\n",
        "\n",
        "history_seq = flat_model_seq.fit(\n",
        "    x_train_seq, y_train_seq,\n",
        "    epochs=30,\n",
        "    batch_size=32,\n",
        "    validation_data=(x_val_seq, y_val_seq),\n",
        "    callbacks=[checkpoint_seq]\n",
        ")\n"
      ],
      "metadata": {
        "colab": {
          "base_uri": "https://localhost:8080/",
          "height": 0
        },
        "id": "2DqhIml-kIZj",
        "outputId": "2e3f0ff9-cd19-4e74-9288-8ae2f3ea7d2f"
      },
      "execution_count": 25,
      "outputs": [
        {
          "output_type": "stream",
          "name": "stdout",
          "text": [
            "Epoch 1/30\n",
            "313/313 [==============================] - 2s 4ms/step - loss: 0.6793 - accuracy: 0.5884 - val_loss: 0.6386 - val_accuracy: 0.7028\n",
            "Epoch 2/30\n",
            "313/313 [==============================] - 1s 3ms/step - loss: 0.5184 - accuracy: 0.7957 - val_loss: 0.4410 - val_accuracy: 0.8242\n",
            "Epoch 3/30\n",
            "313/313 [==============================] - 1s 3ms/step - loss: 0.3507 - accuracy: 0.8686 - val_loss: 0.3610 - val_accuracy: 0.8492\n",
            "Epoch 4/30\n",
            "313/313 [==============================] - 1s 3ms/step - loss: 0.2727 - accuracy: 0.8968 - val_loss: 0.3391 - val_accuracy: 0.8544\n",
            "Epoch 5/30\n",
            "313/313 [==============================] - 1s 3ms/step - loss: 0.2264 - accuracy: 0.9157 - val_loss: 0.3188 - val_accuracy: 0.8627\n",
            "Epoch 6/30\n",
            "313/313 [==============================] - 1s 3ms/step - loss: 0.1920 - accuracy: 0.9303 - val_loss: 0.3175 - val_accuracy: 0.8642\n",
            "Epoch 7/30\n",
            "313/313 [==============================] - 1s 3ms/step - loss: 0.1639 - accuracy: 0.9436 - val_loss: 0.3190 - val_accuracy: 0.8648\n",
            "Epoch 8/30\n",
            "313/313 [==============================] - 1s 3ms/step - loss: 0.1401 - accuracy: 0.9539 - val_loss: 0.3285 - val_accuracy: 0.8619\n",
            "Epoch 9/30\n",
            "313/313 [==============================] - 1s 3ms/step - loss: 0.1190 - accuracy: 0.9628 - val_loss: 0.3320 - val_accuracy: 0.8608\n",
            "Epoch 10/30\n",
            "313/313 [==============================] - 1s 3ms/step - loss: 0.0999 - accuracy: 0.9699 - val_loss: 0.3422 - val_accuracy: 0.8603\n",
            "Epoch 11/30\n",
            "313/313 [==============================] - 1s 3ms/step - loss: 0.0822 - accuracy: 0.9784 - val_loss: 0.3535 - val_accuracy: 0.8588\n",
            "Epoch 12/30\n",
            "313/313 [==============================] - 1s 3ms/step - loss: 0.0677 - accuracy: 0.9832 - val_loss: 0.3598 - val_accuracy: 0.8570\n",
            "Epoch 13/30\n",
            "313/313 [==============================] - 1s 3ms/step - loss: 0.0540 - accuracy: 0.9889 - val_loss: 0.3770 - val_accuracy: 0.8557\n",
            "Epoch 14/30\n",
            "313/313 [==============================] - 1s 4ms/step - loss: 0.0428 - accuracy: 0.9929 - val_loss: 0.3858 - val_accuracy: 0.8564\n",
            "Epoch 15/30\n",
            "313/313 [==============================] - 1s 3ms/step - loss: 0.0338 - accuracy: 0.9938 - val_loss: 0.4055 - val_accuracy: 0.8521\n",
            "Epoch 16/30\n",
            "313/313 [==============================] - 1s 3ms/step - loss: 0.0263 - accuracy: 0.9958 - val_loss: 0.4220 - val_accuracy: 0.8535\n",
            "Epoch 17/30\n",
            "313/313 [==============================] - 1s 3ms/step - loss: 0.0204 - accuracy: 0.9968 - val_loss: 0.4333 - val_accuracy: 0.8523\n",
            "Epoch 18/30\n",
            "313/313 [==============================] - 1s 3ms/step - loss: 0.0156 - accuracy: 0.9975 - val_loss: 0.4520 - val_accuracy: 0.8525\n",
            "Epoch 19/30\n",
            "313/313 [==============================] - 1s 3ms/step - loss: 0.0118 - accuracy: 0.9988 - val_loss: 0.4655 - val_accuracy: 0.8515\n",
            "Epoch 20/30\n",
            "313/313 [==============================] - 1s 3ms/step - loss: 0.0092 - accuracy: 0.9993 - val_loss: 0.4885 - val_accuracy: 0.8483\n",
            "Epoch 21/30\n",
            "313/313 [==============================] - 1s 3ms/step - loss: 0.0070 - accuracy: 0.9996 - val_loss: 0.4990 - val_accuracy: 0.8519\n",
            "Epoch 22/30\n",
            "313/313 [==============================] - 1s 3ms/step - loss: 0.0056 - accuracy: 0.9997 - val_loss: 0.5216 - val_accuracy: 0.8481\n",
            "Epoch 23/30\n",
            "313/313 [==============================] - 1s 3ms/step - loss: 0.0045 - accuracy: 0.9997 - val_loss: 0.5318 - val_accuracy: 0.8480\n",
            "Epoch 24/30\n",
            "313/313 [==============================] - 1s 3ms/step - loss: 0.0036 - accuracy: 0.9997 - val_loss: 0.5550 - val_accuracy: 0.8472\n",
            "Epoch 25/30\n",
            "313/313 [==============================] - 1s 3ms/step - loss: 0.0030 - accuracy: 0.9998 - val_loss: 0.5576 - val_accuracy: 0.8490\n",
            "Epoch 26/30\n",
            "313/313 [==============================] - 1s 3ms/step - loss: 0.0025 - accuracy: 0.9999 - val_loss: 0.5749 - val_accuracy: 0.8478\n",
            "Epoch 27/30\n",
            "313/313 [==============================] - 1s 3ms/step - loss: 0.0022 - accuracy: 0.9998 - val_loss: 0.5813 - val_accuracy: 0.8475\n",
            "Epoch 28/30\n",
            "313/313 [==============================] - 1s 3ms/step - loss: 0.0018 - accuracy: 0.9998 - val_loss: 0.5924 - val_accuracy: 0.8480\n",
            "Epoch 29/30\n",
            "313/313 [==============================] - 1s 3ms/step - loss: 0.0016 - accuracy: 0.9998 - val_loss: 0.6012 - val_accuracy: 0.8470\n",
            "Epoch 30/30\n",
            "313/313 [==============================] - 1s 3ms/step - loss: 0.0015 - accuracy: 0.9998 - val_loss: 0.6103 - val_accuracy: 0.8463\n"
          ]
        }
      ]
    },
    {
      "cell_type": "code",
      "source": [
        "####Plotting the Accuracy and loss for training and validation"
      ],
      "metadata": {
        "id": "RLuo73-HkWdi"
      },
      "execution_count": null,
      "outputs": []
    },
    {
      "cell_type": "code",
      "source": [
        "import matplotlib.pyplot as plt\n",
        "\n",
        "train_acc_seq = history_seq.history['accuracy']\n",
        "val_acc_seq = history_seq.history['val_accuracy']\n",
        "\n",
        "train_loss_seq = history_seq.history[\"loss\"]\n",
        "val_loss_seq = history_seq.history[\"val_loss\"]\n",
        "\n",
        "epochs_seq = range(1, len(train_acc_seq) + 1)\n",
        "\n",
        "plt.figure(figsize=(6, 4))\n",
        "plt.plot(epochs_seq, train_acc_seq, color=\"grey\", linestyle=\"dashed\", label=\"Training Accuracy\")\n",
        "plt.plot(epochs_seq, val_acc_seq, color=\"blue\", linestyle=\"dashed\", label=\"Validation Accuracy\")\n",
        "plt.title(\"Flat_Model_Seq: Training and Validation Accuracy\")\n",
        "plt.xlabel(\"Epochs\")\n",
        "plt.ylabel(\"Accuracy\")\n",
        "plt.legend()\n",
        "plt.grid()\n",
        "plt.show()\n",
        "\n",
        "plt.figure(figsize=(6, 4))\n",
        "plt.plot(epochs_seq, train_loss_seq, color=\"grey\", linestyle=\"dashed\", label=\"Training Loss\")\n",
        "plt.plot(epochs_seq, val_loss_seq, color=\"blue\", linestyle=\"dashed\", label=\"Validation Loss\")\n",
        "plt.title(\"Flat_Model_Seq: Training and Validation Loss\")\n",
        "plt.xlabel(\"Epochs\")\n",
        "plt.ylabel(\"Loss\")\n",
        "plt.legend()\n",
        "plt.grid()\n",
        "plt.show()\n"
      ],
      "metadata": {
        "colab": {
          "base_uri": "https://localhost:8080/",
          "height": 803
        },
        "id": "VFHPak_-kYSd",
        "outputId": "1ad3d5ef-4314-47a5-9304-f70c5e1da7e7"
      },
      "execution_count": 26,
      "outputs": [
        {
          "output_type": "display_data",
          "data": {
            "text/plain": [
              "<Figure size 600x400 with 1 Axes>"
            ],
            "image/png": "[encoded data removed]"
          },
          "metadata": {}
        },
        {
          "output_type": "display_data",
          "data": {
            "text/plain": [
              "<Figure size 600x400 with 1 Axes>"
            ],
            "image/png": "[encoded data removed]"
          },
          "metadata": {}
        }
      ]
    },
    {
      "cell_type": "code",
      "source": [
        "from tensorflow.keras.models import load_model\n",
        "\n",
        "loaded_seq_model = load_model('flat_model_seq.h5')\n",
        "\n",
        "eval_results_seq = loaded_seq_model.evaluate(x_test_seq, y_test_seq)\n",
        "\n",
        "print(f\"Test Loss: {eval_results_seq[0]:.3f}\")\n",
        "print(f\"Test Accuracy: {eval_results_seq[1]:.3f}\")\n"
      ],
      "metadata": {
        "colab": {
          "base_uri": "https://localhost:8080/",
          "height": 0
        },
        "id": "jwqSznBjkymf",
        "outputId": "5fa44931-1f48-45d1-9ebe-ae4dd55ff577"
      },
      "execution_count": 27,
      "outputs": [
        {
          "output_type": "stream",
          "name": "stdout",
          "text": [
            "157/157 [==============================] - 0s 1ms/step - loss: 0.2850 - accuracy: 0.8764\n",
            "Test Loss: 0.285\n",
            "Test Accuracy: 0.876\n"
          ]
        }
      ]
    },
    {
      "cell_type": "markdown",
      "source": [
        "###PreTrained Models\n",
        "####GloVe, or Global Vectors for Word Representation, is an unsupervised learning algorithm for generating vector representations of words based on their co-occurrence statistics in large text corpora. Developed by researchers at Stanford University, GloVe aims to capture semantic relationships and meanings of words by considering their global statistical information. We are getting the data from ai.stanford.edu."
      ],
      "metadata": {
        "id": "6khOyqWPk4Iv"
      }
    },
    {
      "cell_type": "code",
      "source": [
        "!curl -O https://ai.stanford.edu/~amaas/data/sentiment/aclImdb_v1.tar.gz\n",
        "!tar -xf aclImdb_v1.tar.gz"
      ],
      "metadata": {
        "colab": {
          "base_uri": "https://localhost:8080/",
          "height": 0
        },
        "id": "8KJmj9eTk4_K",
        "outputId": "0dcf70ec-25c9-4b79-9727-91ace430531d"
      },
      "execution_count": 28,
      "outputs": [
        {
          "output_type": "stream",
          "name": "stdout",
          "text": [
            "  % Total    % Received % Xferd  Average Speed   Time    Time     Time  Current\n",
            "                                 Dload  Upload   Total   Spent    Left  Speed\n",
            "100 80.2M  100 80.2M    0     0  7400k      0  0:00:11  0:00:11 --:--:-- 14.7M\n"
          ]
        }
      ]
    },
    {
      "cell_type": "code",
      "source": [
        "!rm -r aclImdb/train/unsup"
      ],
      "metadata": {
        "id": "vjDFaBqIlSyO"
      },
      "execution_count": 29,
      "outputs": []
    },
    {
      "cell_type": "code",
      "source": [
        "import os\n",
        "\n",
        "dataset_path = '/content/aclImdb'\n",
        "train_path = os.path.join(dataset_path, 'train')\n",
        "\n",
        "review_labels = []\n",
        "review_texts = []\n",
        "\n",
        "for sentiment in ['neg', 'pos']:\n",
        "    sentiment_dir = os.path.join(train_path, sentiment)\n",
        "    for filename in os.listdir(sentiment_dir):\n",
        "        if filename.endswith('.txt'):\n",
        "            with open(os.path.join(sentiment_dir, filename)) as file:\n",
        "                review_texts.append(file.read())\n",
        "            review_labels.append(0 if sentiment == 'neg' else 1)\n"
      ],
      "metadata": {
        "id": "OFeHidoTlZz8"
      },
      "execution_count": 30,
      "outputs": []
    },
    {
      "cell_type": "code",
      "source": [
        "print('No. of Samples', len(review_texts))"
      ],
      "metadata": {
        "colab": {
          "base_uri": "https://localhost:8080/",
          "height": 0
        },
        "id": "tKF-ws3WlywU",
        "outputId": "e3f39c82-e473-49da-b22c-3314573e0d4c"
      },
      "execution_count": 31,
      "outputs": [
        {
          "output_type": "stream",
          "name": "stdout",
          "text": [
            "No. of Samples 25000\n"
          ]
        }
      ]
    },
    {
      "cell_type": "code",
      "source": [
        "from tensorflow.keras.preprocessing.text import Tokenizer\n",
        "from tensorflow.keras.preprocessing.sequence import pad_sequences\n",
        "\n",
        "seq_maxlen = 150\n",
        "n_train_samples = 100\n",
        "n_val_samples = 10000\n",
        "vocab_size_limit = 10000\n",
        "\n",
        "text_tokenizer = Tokenizer(num_words=vocab_size_limit)\n",
        "text_tokenizer.fit_on_texts(review_texts)\n",
        "review_sequences = text_tokenizer.texts_to_sequences(review_texts)\n",
        "\n",
        "word_to_index = text_tokenizer.word_index\n",
        "print('Found %s unique tokens.' % len(word_to_index))\n",
        "\n",
        "padded_data = pad_sequences(review_sequences, maxlen=seq_maxlen)\n",
        "label_array = np.asarray(review_labels)\n",
        "print('Shape of data tensor:', padded_data.shape)\n",
        "print('Shape of label tensor:', label_array.shape)\n",
        "\n",
        "shuffle_indices = np.arange(padded_data.shape[0])\n",
        "np.random.shuffle(shuffle_indices)\n",
        "padded_data = padded_data[shuffle_indices]\n",
        "label_array = label_array[shuffle_indices]\n",
        "\n",
        "x_train_text = padded_data[:n_train_samples]\n",
        "y_train_text = label_array[:n_train_samples]\n",
        "x_val_text = padded_data[n_train_samples: n_train_samples + n_val_samples]\n",
        "y_val_text = label_array[n_train_samples: n_train_samples + n_val_samples]\n",
        "\n",
        "# Test data loading\n",
        "test_path = os.path.join(dataset_path, 'test')\n",
        "\n",
        "test_labels = []\n",
        "test_texts = []\n",
        "\n",
        "for sentiment_type in ['neg', 'pos']:\n",
        "    sentiment_path = os.path.join(test_path, sentiment_type)\n",
        "    for test_file in sorted(os.listdir(sentiment_path)):\n",
        "        if test_file.endswith('.txt'):\n",
        "            with open(os.path.join(sentiment_path, test_file)) as file:\n",
        "                test_texts.append(file.read())\n",
        "            test_labels.append(0 if sentiment_type == 'neg' else 1)\n",
        "\n",
        "test_sequences = text_tokenizer.texts_to_sequences(test_texts)\n",
        "x_test_text = pad_sequences(test_sequences, maxlen=seq_maxlen)[:5000]\n",
        "y_test_text = np.asarray(test_labels)[:5000]\n"
      ],
      "metadata": {
        "colab": {
          "base_uri": "https://localhost:8080/",
          "height": 0
        },
        "id": "M_3Kyuk9mCnq",
        "outputId": "b221482b-0cd4-42b9-aeb0-e584a6029421"
      },
      "execution_count": 32,
      "outputs": [
        {
          "output_type": "stream",
          "name": "stdout",
          "text": [
            "Found 88582 unique tokens.\n",
            "Shape of data tensor: (25000, 150)\n",
            "Shape of label tensor: (25000,)\n"
          ]
        }
      ]
    },
    {
      "cell_type": "code",
      "source": [
        "x_train_text.shape"
      ],
      "metadata": {
        "colab": {
          "base_uri": "https://localhost:8080/",
          "height": 0
        },
        "id": "0EcqqVYWmNzl",
        "outputId": "49a29d65-23a3-459e-b3b7-12556e1ef162"
      },
      "execution_count": 33,
      "outputs": [
        {
          "output_type": "execute_result",
          "data": {
            "text/plain": [
              "(100, 150)"
            ]
          },
          "metadata": {},
          "execution_count": 33
        }
      ]
    },
    {
      "cell_type": "code",
      "source": [
        "x_val_text.shape"
      ],
      "metadata": {
        "colab": {
          "base_uri": "https://localhost:8080/",
          "height": 0
        },
        "id": "wN1sgk4qmWd8",
        "outputId": "20cea873-b7f1-4aaa-8d52-6e82c8c12222"
      },
      "execution_count": 34,
      "outputs": [
        {
          "output_type": "execute_result",
          "data": {
            "text/plain": [
              "(10000, 150)"
            ]
          },
          "metadata": {},
          "execution_count": 34
        }
      ]
    },
    {
      "cell_type": "code",
      "source": [
        "x_test_text.shape"
      ],
      "metadata": {
        "colab": {
          "base_uri": "https://localhost:8080/",
          "height": 0
        },
        "id": "9qtmpXs6mfxj",
        "outputId": "fe29d735-073a-4892-9a2e-8db43a491321"
      },
      "execution_count": 35,
      "outputs": [
        {
          "output_type": "execute_result",
          "data": {
            "text/plain": [
              "(5000, 150)"
            ]
          },
          "metadata": {},
          "execution_count": 35
        }
      ]
    },
    {
      "cell_type": "code",
      "source": [
        "!wget http://nlp.stanford.edu/data/glove.6B.zip\n",
        "!unzip -q glove.6B.zip"
      ],
      "metadata": {
        "colab": {
          "base_uri": "https://localhost:8080/",
          "height": 0
        },
        "id": "a39TM_IXmlw4",
        "outputId": "5d71c9ae-f050-452f-b782-74c06695f92d"
      },
      "execution_count": 36,
      "outputs": [
        {
          "output_type": "stream",
          "name": "stdout",
          "text": [
            "--2025-04-20 23:48:24--  http://nlp.stanford.edu/data/glove.6B.zip\n",
            "Resolving nlp.stanford.edu (nlp.stanford.edu)... 171.64.67.140\n",
            "Connecting to nlp.stanford.edu (nlp.stanford.edu)|171.64.67.140|:80... connected.\n",
            "HTTP request sent, awaiting response... 302 Found\n",
            "Location: https://nlp.stanford.edu/data/glove.6B.zip [following]\n",
            "--2025-04-20 23:48:25--  https://nlp.stanford.edu/data/glove.6B.zip\n",
            "Connecting to nlp.stanford.edu (nlp.stanford.edu)|171.64.67.140|:443... connected.\n",
            "HTTP request sent, awaiting response... 301 Moved Permanently\n",
            "Location: https://downloads.cs.stanford.edu/nlp/data/glove.6B.zip [following]\n",
            "--2025-04-20 23:48:25--  https://downloads.cs.stanford.edu/nlp/data/glove.6B.zip\n",
            "Resolving downloads.cs.stanford.edu (downloads.cs.stanford.edu)... 171.64.64.22\n",
            "Connecting to downloads.cs.stanford.edu (downloads.cs.stanford.edu)|171.64.64.22|:443... connected.\n",
            "HTTP request sent, awaiting response... 200 OK\n",
            "Length: 862182613 (822M) [application/zip]\n",
            "Saving to: ‘glove.6B.zip’\n",
            "\n",
            "glove.6B.zip        100%[===================>] 822.24M  5.02MB/s    in 2m 39s  \n",
            "\n",
            "2025-04-20 23:51:05 (5.17 MB/s) - ‘glove.6B.zip’ saved [862182613/862182613]\n",
            "\n"
          ]
        }
      ]
    },
    {
      "cell_type": "code",
      "source": [
        "import numpy as np\n",
        "\n",
        "glove_path = \"glove.6B.100d.txt\"\n",
        "\n",
        "glove_embeddings = {}\n",
        "with open(glove_path) as glove_file:\n",
        "    for line in glove_file:\n",
        "        token, vector = line.split(maxsplit=1)\n",
        "        vector = np.fromstring(vector, dtype=\"f\", sep=\" \")\n",
        "        glove_embeddings[token] = vector\n",
        "\n",
        "print(f\"Found {len(glove_embeddings)} word vectors.\")\n"
      ],
      "metadata": {
        "colab": {
          "base_uri": "https://localhost:8080/",
          "height": 0
        },
        "id": "s7L0tow8mxDT",
        "outputId": "0954181b-ac99-47a4-f26e-a8beb311b7af"
      },
      "execution_count": 37,
      "outputs": [
        {
          "output_type": "stream",
          "name": "stdout",
          "text": [
            "Found 400000 word vectors.\n"
          ]
        }
      ]
    },
    {
      "cell_type": "code",
      "source": [
        "embedding_size = 100\n",
        "\n",
        "embedding_weights = np.zeros((vocab_size_limit, embedding_size))\n",
        "for token, index in word_to_index.items():\n",
        "    vector = glove_embeddings.get(token)\n",
        "    if index < vocab_size_limit:\n",
        "        if vector is not None:\n",
        "            embedding_weights[index] = vector"
      ],
      "metadata": {
        "id": "FXm0nrAUoJVU"
      },
      "execution_count": 39,
      "outputs": []
    },
    {
      "cell_type": "markdown",
      "source": [
        "###Model 9:Pretrained Models with Training sample size 100- we are using GloVe model\n",
        "Model Building :"
      ],
      "metadata": {
        "id": "H5o6ZpD-ncFG"
      }
    },
    {
      "cell_type": "code",
      "source": [
        "from tensorflow.keras.models import Sequential\n",
        "from tensorflow.keras.layers import Embedding, LSTM, Dense\n",
        "from tensorflow import keras\n",
        "\n",
        "lstm_model_embed = Sequential()\n",
        "lstm_model_embed.add(Embedding(vocab_size_limit, embedding_size, input_length=seq_maxlen))\n",
        "lstm_model_embed.add(LSTM(32))\n",
        "lstm_model_embed.add(Dense(1, activation='sigmoid'))\n",
        "\n",
        "lstm_model_embed.layers[0].set_weights([embedding_weights])\n",
        "lstm_model_embed.layers[0].trainable = False\n",
        "\n",
        "custom_adam = keras.optimizers.Adam(learning_rate=0.0001)\n",
        "lstm_model_embed.compile(optimizer=custom_adam, loss='binary_crossentropy', metrics=['accuracy'])\n",
        "lstm_model_embed.summary()\n"
      ],
      "metadata": {
        "colab": {
          "base_uri": "https://localhost:8080/",
          "height": 0
        },
        "id": "tH2cCTWXndG_",
        "outputId": "3a345ecd-93e6-4bba-c3b0-1630fa30e7aa"
      },
      "execution_count": 40,
      "outputs": [
        {
          "output_type": "stream",
          "name": "stdout",
          "text": [
            "Model: \"sequential_4\"\n",
            "_________________________________________________________________\n",
            " Layer (type)                Output Shape              Param #   \n",
            "=================================================================\n",
            " embedding_3 (Embedding)     (None, 150, 100)          1000000   \n",
            "                                                                 \n",
            " lstm (LSTM)                 (None, 32)                17024     \n",
            "                                                                 \n",
            " dense_3 (Dense)             (None, 1)                 33        \n",
            "                                                                 \n",
            "=================================================================\n",
            "Total params: 1,017,057\n",
            "Trainable params: 17,057\n",
            "Non-trainable params: 1,000,000\n",
            "_________________________________________________________________\n"
          ]
        }
      ]
    },
    {
      "cell_type": "code",
      "source": [
        "from tensorflow.keras.callbacks import ModelCheckpoint\n",
        "\n",
        "checkpoint_embed_lstm = ModelCheckpoint(\n",
        "    filepath=\"lstm_model_embed.keras\",\n",
        "    save_best_only=True,\n",
        "    monitor=\"val_loss\"\n",
        ")\n",
        "\n",
        "history_embed_lstm = lstm_model_embed.fit(\n",
        "    x_train_text, y_train_text,\n",
        "    epochs=30,\n",
        "    batch_size=32,\n",
        "    validation_data=(x_val_text, y_val_text),\n",
        "    callbacks=[checkpoint_embed_lstm]\n",
        ")"
      ],
      "metadata": {
        "colab": {
          "base_uri": "https://localhost:8080/",
          "height": 0
        },
        "id": "xpxDUJeWobIm",
        "outputId": "ddbd6606-702d-4b79-8013-39a5b2f9c9b6"
      },
      "execution_count": 41,
      "outputs": [
        {
          "output_type": "stream",
          "name": "stdout",
          "text": [
            "Epoch 1/30\n",
            "4/4 [==============================] - 8s 2s/step - loss: 0.7473 - accuracy: 0.4800 - val_loss: 0.7142 - val_accuracy: 0.5035\n",
            "Epoch 2/30\n",
            "4/4 [==============================] - 5s 2s/step - loss: 0.7398 - accuracy: 0.4600 - val_loss: 0.7124 - val_accuracy: 0.5039\n",
            "Epoch 3/30\n",
            "4/4 [==============================] - 5s 2s/step - loss: 0.7349 - accuracy: 0.4600 - val_loss: 0.7093 - val_accuracy: 0.5061\n",
            "Epoch 4/30\n",
            "4/4 [==============================] - 5s 2s/step - loss: 0.7300 - accuracy: 0.4600 - val_loss: 0.7059 - val_accuracy: 0.5070\n",
            "Epoch 5/30\n",
            "4/4 [==============================] - 5s 2s/step - loss: 0.7252 - accuracy: 0.4400 - val_loss: 0.7031 - val_accuracy: 0.5077\n",
            "Epoch 6/30\n",
            "4/4 [==============================] - 5s 2s/step - loss: 0.7195 - accuracy: 0.4300 - val_loss: 0.7012 - val_accuracy: 0.5091\n",
            "Epoch 7/30\n",
            "4/4 [==============================] - 5s 2s/step - loss: 0.7152 - accuracy: 0.4000 - val_loss: 0.6998 - val_accuracy: 0.5100\n",
            "Epoch 8/30\n",
            "4/4 [==============================] - 5s 2s/step - loss: 0.7123 - accuracy: 0.4600 - val_loss: 0.6988 - val_accuracy: 0.5067\n",
            "Epoch 9/30\n",
            "4/4 [==============================] - 5s 2s/step - loss: 0.7088 - accuracy: 0.5100 - val_loss: 0.6982 - val_accuracy: 0.5068\n",
            "Epoch 10/30\n",
            "4/4 [==============================] - 5s 2s/step - loss: 0.7062 - accuracy: 0.4900 - val_loss: 0.6978 - val_accuracy: 0.5076\n",
            "Epoch 11/30\n",
            "4/4 [==============================] - 5s 2s/step - loss: 0.7037 - accuracy: 0.5100 - val_loss: 0.6976 - val_accuracy: 0.5091\n",
            "Epoch 12/30\n",
            "4/4 [==============================] - 5s 2s/step - loss: 0.7017 - accuracy: 0.5200 - val_loss: 0.6974 - val_accuracy: 0.5079\n",
            "Epoch 13/30\n",
            "4/4 [==============================] - 5s 2s/step - loss: 0.6996 - accuracy: 0.5200 - val_loss: 0.6972 - val_accuracy: 0.5097\n",
            "Epoch 14/30\n",
            "4/4 [==============================] - 5s 2s/step - loss: 0.6981 - accuracy: 0.5000 - val_loss: 0.6971 - val_accuracy: 0.5135\n",
            "Epoch 15/30\n",
            "4/4 [==============================] - 5s 2s/step - loss: 0.6960 - accuracy: 0.5100 - val_loss: 0.6968 - val_accuracy: 0.5142\n",
            "Epoch 16/30\n",
            "4/4 [==============================] - 5s 2s/step - loss: 0.6942 - accuracy: 0.5100 - val_loss: 0.6965 - val_accuracy: 0.5137\n",
            "Epoch 17/30\n",
            "4/4 [==============================] - 5s 2s/step - loss: 0.6927 - accuracy: 0.5200 - val_loss: 0.6962 - val_accuracy: 0.5158\n",
            "Epoch 18/30\n",
            "4/4 [==============================] - 5s 2s/step - loss: 0.6913 - accuracy: 0.5300 - val_loss: 0.6961 - val_accuracy: 0.5165\n",
            "Epoch 19/30\n",
            "4/4 [==============================] - 5s 2s/step - loss: 0.6896 - accuracy: 0.5400 - val_loss: 0.6961 - val_accuracy: 0.5187\n",
            "Epoch 20/30\n",
            "4/4 [==============================] - 5s 2s/step - loss: 0.6881 - accuracy: 0.5400 - val_loss: 0.6960 - val_accuracy: 0.5198\n",
            "Epoch 21/30\n",
            "4/4 [==============================] - 5s 2s/step - loss: 0.6865 - accuracy: 0.5400 - val_loss: 0.6958 - val_accuracy: 0.5212\n",
            "Epoch 22/30\n",
            "4/4 [==============================] - 5s 2s/step - loss: 0.6852 - accuracy: 0.5600 - val_loss: 0.6955 - val_accuracy: 0.5223\n",
            "Epoch 23/30\n",
            "4/4 [==============================] - 5s 2s/step - loss: 0.6840 - accuracy: 0.5500 - val_loss: 0.6948 - val_accuracy: 0.5220\n",
            "Epoch 24/30\n",
            "4/4 [==============================] - 5s 2s/step - loss: 0.6823 - accuracy: 0.5700 - val_loss: 0.6944 - val_accuracy: 0.5219\n",
            "Epoch 25/30\n",
            "4/4 [==============================] - 5s 2s/step - loss: 0.6807 - accuracy: 0.5600 - val_loss: 0.6940 - val_accuracy: 0.5205\n",
            "Epoch 26/30\n",
            "4/4 [==============================] - 5s 2s/step - loss: 0.6796 - accuracy: 0.5700 - val_loss: 0.6938 - val_accuracy: 0.5211\n",
            "Epoch 27/30\n",
            "4/4 [==============================] - 5s 2s/step - loss: 0.6781 - accuracy: 0.5800 - val_loss: 0.6935 - val_accuracy: 0.5227\n",
            "Epoch 28/30\n",
            "4/4 [==============================] - 5s 2s/step - loss: 0.6765 - accuracy: 0.5900 - val_loss: 0.6932 - val_accuracy: 0.5236\n",
            "Epoch 29/30\n",
            "4/4 [==============================] - 5s 2s/step - loss: 0.6751 - accuracy: 0.5800 - val_loss: 0.6929 - val_accuracy: 0.5249\n",
            "Epoch 30/30\n",
            "4/4 [==============================] - 5s 2s/step - loss: 0.6737 - accuracy: 0.5800 - val_loss: 0.6927 - val_accuracy: 0.5244\n"
          ]
        }
      ]
    },
    {
      "cell_type": "markdown",
      "source": [
        "Plotting the Accuracy and loss for training and validation"
      ],
      "metadata": {
        "id": "ZVocErm9ohcB"
      }
    },
    {
      "cell_type": "code",
      "source": [
        "train_acc_lstm = history_embed_lstm.history['accuracy']\n",
        "val_acc_lstm = history_embed_lstm.history['val_accuracy']\n",
        "\n",
        "train_loss_lstm = history_embed_lstm.history[\"loss\"]\n",
        "val_loss_lstm = history_embed_lstm.history[\"val_loss\"]\n",
        "\n",
        "epoch_range_lstm = range(1, len(train_acc_lstm) + 1)\n",
        "\n",
        "plt.figure(figsize=(6, 4))\n",
        "plt.plot(epoch_range_lstm, train_acc_lstm, color=\"grey\", linestyle=\"dashed\", label=\"Training Accuracy\")\n",
        "plt.plot(epoch_range_lstm, val_acc_lstm, color=\"blue\", linestyle=\"dashed\", label=\"Validation Accuracy\")\n",
        "plt.title(\"LSTM_Model_Embed: Accuracy\")\n",
        "plt.legend()\n",
        "plt.grid()\n",
        "plt.show()\n",
        "\n",
        "plt.figure(figsize=(6, 4))\n",
        "plt.plot(epoch_range_lstm, train_loss_lstm, color=\"grey\", linestyle=\"dashed\", label=\"Training Loss\")\n",
        "plt.plot(epoch_range_lstm, val_loss_lstm, color=\"blue\", linestyle=\"dashed\", label=\"Validation Loss\")\n",
        "plt.title(\"LSTM_Model_Embed: Loss\")\n",
        "plt.legend()\n",
        "plt.grid()\n",
        "plt.show()\n"
      ],
      "metadata": {
        "colab": {
          "base_uri": "https://localhost:8080/",
          "height": 765
        },
        "id": "ueQbH1vIoiP1",
        "outputId": "1eef279f-aee4-4538-bd10-8c2c075f25e6"
      },
      "execution_count": 42,
      "outputs": [
        {
          "output_type": "display_data",
          "data": {
            "text/plain": [
              "<Figure size 600x400 with 1 Axes>"
            ],
            "image/png": "[encoded data removed]"
          },
          "metadata": {}
        },
        {
          "output_type": "display_data",
          "data": {
            "text/plain": [
              "<Figure size 600x400 with 1 Axes>"
            ],
            "image/png": "[encoded data removed]"
          },
          "metadata": {}
        }
      ]
    },
    {
      "cell_type": "code",
      "source": [
        "loaded_lstm_model = load_model('lstm_model_embed.keras')\n",
        "eval_results_lstm = loaded_lstm_model.evaluate(x_test_text, y_test_text)\n",
        "\n",
        "print(f'Loss: {eval_results_lstm[0]:.3f}')\n",
        "print(f'Accuracy: {eval_results_lstm[1]:.3f}')\n"
      ],
      "metadata": {
        "colab": {
          "base_uri": "https://localhost:8080/",
          "height": 0
        },
        "id": "DFru9i2no8GB",
        "outputId": "44066b63-2a03-4ffc-b736-56aa1126c7ee"
      },
      "execution_count": 43,
      "outputs": [
        {
          "output_type": "stream",
          "name": "stdout",
          "text": [
            "157/157 [==============================] - 3s 16ms/step - loss: 0.7025 - accuracy: 0.4706\n",
            "Loss: 0.703\n",
            "Accuracy: 0.471\n"
          ]
        }
      ]
    },
    {
      "cell_type": "markdown",
      "source": [
        "##Model 10:Pretrained Models , 4 LSTM hidden layers with Training sample size 5000"
      ],
      "metadata": {
        "id": "Qqa8QTQMpK9O"
      }
    },
    {
      "cell_type": "code",
      "source": [
        "import numpy as np\n",
        "from tensorflow.keras.preprocessing.text import Tokenizer\n",
        "from tensorflow.keras.preprocessing.sequence import pad_sequences\n",
        "\n",
        "# Example text data (replace with your actual data)\n",
        "sample_texts = [\"This is the first text.\", \"Another example text.\", \"Text data for training.\"]\n",
        "sample_labels = [0, 1, 0]  # Example labels (replace with your actual labels)\n",
        "\n",
        "# Parameters\n",
        "max_sequence_length = 150\n",
        "num_train_samples = 5000\n",
        "num_val_samples = 10000\n",
        "vocab_limit = 10000\n",
        "\n",
        "# Tokenizer for text preprocessing\n",
        "text_tokenizer = Tokenizer(num_words=vocab_limit)\n",
        "text_tokenizer.fit_on_texts(sample_texts)\n",
        "text_sequences = text_tokenizer.texts_to_sequences(sample_texts)\n",
        "\n",
        "# Get word index\n",
        "token_to_index = text_tokenizer.word_index\n",
        "print(f'Found {len(token_to_index)} unique tokens.')\n",
        "\n",
        "# Pad sequences to ensure uniform input length\n",
        "padded_text_data = pad_sequences(text_sequences, maxlen=max_sequence_length)\n",
        "\n",
        "# Convert labels to numpy array\n",
        "label_array = np.asarray(sample_labels)\n",
        "print('Shape of data tensor:', padded_text_data.shape)\n",
        "print('Shape of label tensor:', label_array.shape)\n",
        "\n",
        "# Shuffle the data and labels\n",
        "shuffle_idx = np.arange(padded_text_data.shape[0])\n",
        "np.random.shuffle(shuffle_idx)\n",
        "padded_text_data = padded_text_data[shuffle_idx]\n",
        "label_array = label_array[shuffle_idx]\n",
        "\n",
        "# Split into training and validation sets\n",
        "x_train_sample = padded_text_data[:num_train_samples]\n",
        "y_train_sample = label_array[:num_train_samples]\n",
        "x_val_sample = padded_text_data[num_train_samples:num_train_samples + num_val_samples]\n",
        "y_val_sample = label_array[num_train_samples:num_train_samples + num_val_samples]"
      ],
      "metadata": {
        "colab": {
          "base_uri": "https://localhost:8080/",
          "height": 0
        },
        "id": "04rVZi_opLt7",
        "outputId": "c307ead1-fd9b-48ff-8ec4-8dcdc21d37e5"
      },
      "execution_count": 45,
      "outputs": [
        {
          "output_type": "stream",
          "name": "stdout",
          "text": [
            "Found 10 unique tokens.\n",
            "Shape of data tensor: (3, 150)\n",
            "Shape of label tensor: (3,)\n"
          ]
        }
      ]
    },
    {
      "cell_type": "code",
      "source": [
        "x_train_sample.shape"
      ],
      "metadata": {
        "colab": {
          "base_uri": "https://localhost:8080/",
          "height": 0
        },
        "id": "c_o7N6zApjlU",
        "outputId": "08957152-d426-4bbb-9283-cb7ad54269d0"
      },
      "execution_count": 46,
      "outputs": [
        {
          "output_type": "execute_result",
          "data": {
            "text/plain": [
              "(3, 150)"
            ]
          },
          "metadata": {},
          "execution_count": 46
        }
      ]
    },
    {
      "cell_type": "code",
      "source": [
        "x_val_sample.shape"
      ],
      "metadata": {
        "colab": {
          "base_uri": "https://localhost:8080/",
          "height": 0
        },
        "id": "eZWsjUV_poDA",
        "outputId": "b0633eb4-43a7-473b-ce1a-56f947a8fd58"
      },
      "execution_count": 47,
      "outputs": [
        {
          "output_type": "execute_result",
          "data": {
            "text/plain": [
              "(0, 150)"
            ]
          },
          "metadata": {},
          "execution_count": 47
        }
      ]
    },
    {
      "cell_type": "markdown",
      "source": [
        "Model Building :"
      ],
      "metadata": {
        "id": "mAyH1f8DptwZ"
      }
    },
    {
      "cell_type": "code",
      "source": [
        "from tensorflow.keras.models import Sequential\n",
        "from tensorflow.keras.layers import Embedding, LSTM, Dropout, Dense\n",
        "from tensorflow.keras import optimizers\n",
        "\n",
        "vocab_size = 10000\n",
        "embed_dim = 150\n",
        "sequence_length = 150\n",
        "\n",
        "pretrained_embed_matrix = np.random.rand(vocab_size, embed_dim)\n",
        "\n",
        "deep_lstm_model = Sequential()\n",
        "deep_lstm_model.add(Embedding(vocab_size, embed_dim, input_length=sequence_length))\n",
        "\n",
        "deep_lstm_model.add(LSTM(512, return_sequences=True))\n",
        "deep_lstm_model.add(Dropout(0.5))\n",
        "\n",
        "deep_lstm_model.add(LSTM(256, return_sequences=True))\n",
        "deep_lstm_model.add(Dropout(0.5))\n",
        "\n",
        "deep_lstm_model.add(LSTM(128, return_sequences=True))\n",
        "deep_lstm_model.add(Dropout(0.5))\n",
        "\n",
        "deep_lstm_model.add(LSTM(128))\n",
        "\n",
        "deep_lstm_model.add(Dense(256, activation='relu'))\n",
        "deep_lstm_model.add(Dropout(0.5))\n",
        "deep_lstm_model.add(Dense(256, activation='relu'))\n",
        "deep_lstm_model.add(Dropout(0.5))\n",
        "deep_lstm_model.add(Dense(1, activation='sigmoid'))\n",
        "\n",
        "deep_lstm_model.layers[0].set_weights([pretrained_embed_matrix])\n",
        "deep_lstm_model.layers[0].trainable = False\n",
        "\n",
        "custom_adam_opt = optimizers.Adam(learning_rate=0.0001)\n",
        "deep_lstm_model.compile(optimizer=custom_adam_opt, loss='binary_crossentropy', metrics=['accuracy'])\n",
        "\n",
        "deep_lstm_model.summary()"
      ],
      "metadata": {
        "colab": {
          "base_uri": "https://localhost:8080/",
          "height": 0
        },
        "id": "A1FF0_R-pumy",
        "outputId": "ccc66bb8-36a7-48de-b25c-760d1593bf4a"
      },
      "execution_count": 48,
      "outputs": [
        {
          "output_type": "stream",
          "name": "stdout",
          "text": [
            "Model: \"sequential_5\"\n",
            "_________________________________________________________________\n",
            " Layer (type)                Output Shape              Param #   \n",
            "=================================================================\n",
            " embedding_4 (Embedding)     (None, 150, 150)          1500000   \n",
            "                                                                 \n",
            " lstm_1 (LSTM)               (None, 150, 512)          1357824   \n",
            "                                                                 \n",
            " dropout (Dropout)           (None, 150, 512)          0         \n",
            "                                                                 \n",
            " lstm_2 (LSTM)               (None, 150, 256)          787456    \n",
            "                                                                 \n",
            " dropout_1 (Dropout)         (None, 150, 256)          0         \n",
            "                                                                 \n",
            " lstm_3 (LSTM)               (None, 150, 128)          197120    \n",
            "                                                                 \n",
            " dropout_2 (Dropout)         (None, 150, 128)          0         \n",
            "                                                                 \n",
            " lstm_4 (LSTM)               (None, 128)               131584    \n",
            "                                                                 \n",
            " dense_4 (Dense)             (None, 256)               33024     \n",
            "                                                                 \n",
            " dropout_3 (Dropout)         (None, 256)               0         \n",
            "                                                                 \n",
            " dense_5 (Dense)             (None, 256)               65792     \n",
            "                                                                 \n",
            " dropout_4 (Dropout)         (None, 256)               0         \n",
            "                                                                 \n",
            " dense_6 (Dense)             (None, 1)                 257       \n",
            "                                                                 \n",
            "=================================================================\n",
            "Total params: 4,073,057\n",
            "Trainable params: 2,573,057\n",
            "Non-trainable params: 1,500,000\n",
            "_________________________________________________________________\n"
          ]
        }
      ]
    },
    {
      "cell_type": "code",
      "source": [
        "from tensorflow.keras.callbacks import ModelCheckpoint\n",
        "\n",
        "checkpoint_deep_lstm = ModelCheckpoint(\n",
        "    filepath=\"deep_lstm_model.keras\",\n",
        "    save_best_only=True,\n",
        "    monitor=\"val_loss\"\n",
        ")\n",
        "\n",
        "history_deep_lstm = deep_lstm_model.fit(\n",
        "    x_train_sample, y_train_sample,\n",
        "    epochs=10,\n",
        "    batch_size=12,\n",
        "    validation_data=(x_val_sample, y_val_sample),\n",
        "    callbacks=[checkpoint_deep_lstm]\n",
        ")\n"
      ],
      "metadata": {
        "colab": {
          "base_uri": "https://localhost:8080/",
          "height": 0
        },
        "id": "9nVybAacqFAp",
        "outputId": "a0d6b0d7-9600-4d3d-bb67-6739deba4db6"
      },
      "execution_count": 49,
      "outputs": [
        {
          "output_type": "stream",
          "name": "stdout",
          "text": [
            "Epoch 1/10\n",
            "1/1 [==============================] - 10s 10s/step - loss: 0.7257 - accuracy: 0.0000e+00\n",
            "Epoch 2/10\n",
            "1/1 [==============================] - 1s 611ms/step - loss: 0.7159 - accuracy: 0.3333\n",
            "Epoch 3/10\n",
            "1/1 [==============================] - 1s 620ms/step - loss: 0.6704 - accuracy: 1.0000\n",
            "Epoch 4/10\n",
            "1/1 [==============================] - 1s 606ms/step - loss: 0.6963 - accuracy: 0.6667\n",
            "Epoch 5/10\n",
            "1/1 [==============================] - 1s 656ms/step - loss: 0.6179 - accuracy: 1.0000\n",
            "Epoch 6/10\n",
            "1/1 [==============================] - 1s 625ms/step - loss: 0.6926 - accuracy: 0.6667\n",
            "Epoch 7/10\n",
            "1/1 [==============================] - 1s 640ms/step - loss: 0.6481 - accuracy: 0.6667\n",
            "Epoch 8/10\n",
            "1/1 [==============================] - 1s 662ms/step - loss: 0.5864 - accuracy: 1.0000\n",
            "Epoch 9/10\n",
            "1/1 [==============================] - 1s 647ms/step - loss: 0.6958 - accuracy: 0.3333\n",
            "Epoch 10/10\n",
            "1/1 [==============================] - 1s 639ms/step - loss: 0.6772 - accuracy: 0.6667\n"
          ]
        }
      ]
    },
    {
      "cell_type": "markdown",
      "source": [
        "###Plotting the Accuracy and loss for training and validation"
      ],
      "metadata": {
        "id": "lhmCATPRqLyg"
      }
    },
    {
      "cell_type": "code",
      "source": [
        "train_acc_deep = history_deep_lstm.history['accuracy']\n",
        "train_loss_deep = history_deep_lstm.history['loss']\n",
        "epochs_deep = range(1, len(train_acc_deep) + 1)\n",
        "\n",
        "val_acc_deep = history_deep_lstm.history.get('val_accuracy', None)\n",
        "val_loss_deep = history_deep_lstm.history.get('val_loss', None)\n",
        "\n",
        "plt.figure(figsize=(6, 4))\n",
        "plt.plot(epochs_deep, train_acc_deep, color=\"grey\", linestyle=\"dashed\", label=\"Training Accuracy\")\n",
        "if val_acc_deep is not None:\n",
        "    plt.plot(epochs_deep, val_acc_deep, color=\"blue\", linestyle=\"dashed\", label=\"Validation Accuracy\")\n",
        "plt.title(\"Deep_LSTM_Model: Accuracy\")\n",
        "plt.legend()\n",
        "plt.grid()\n",
        "plt.show()\n",
        "\n",
        "plt.figure(figsize=(6, 4))\n",
        "plt.plot(epochs_deep, train_loss_deep, color=\"grey\", linestyle=\"dashed\", label=\"Training Loss\")\n",
        "if val_loss_deep is not None:\n",
        "    plt.plot(epochs_deep, val_loss_deep, color=\"blue\", linestyle=\"dashed\", label=\"Validation Loss\")\n",
        "plt.title(\"Deep_LSTM_Model: Loss\")\n",
        "plt.legend()\n",
        "plt.grid()\n",
        "plt.show()"
      ],
      "metadata": {
        "colab": {
          "base_uri": "https://localhost:8080/",
          "height": 765
        },
        "id": "m_5e2SA8qMu7",
        "outputId": "8806ac03-b845-4de8-f945-64e7072c9820"
      },
      "execution_count": 50,
      "outputs": [
        {
          "output_type": "display_data",
          "data": {
            "text/plain": [
              "<Figure size 600x400 with 1 Axes>"
            ],
            "image/png": "[encoded data removed]"
          },
          "metadata": {}
        },
        {
          "output_type": "display_data",
          "data": {
            "text/plain": [
              "<Figure size 600x400 with 1 Axes>"
            ],
            "image/png": "[encoded data removed]"
          },
          "metadata": {}
        }
      ]
    },
    {
      "cell_type": "markdown",
      "source": [
        "##Model 11:Pretrained Models , 2 LSTM hidden layer with Training sample size 15000"
      ],
      "metadata": {
        "id": "i3SsKLhrqbS9"
      }
    },
    {
      "cell_type": "code",
      "source": [
        "from tensorflow.keras.preprocessing.text import Tokenizer\n",
        "from tensorflow.keras.preprocessing.sequence import pad_sequences\n",
        "import numpy as np\n",
        "\n",
        "seq_length_final = 150\n",
        "num_train_final = 15000\n",
        "num_val_final = 10000\n",
        "vocab_cap = 10000\n",
        "\n",
        "final_tokenizer = Tokenizer(num_words=vocab_cap)\n",
        "final_tokenizer.fit_on_texts(sample_texts)\n",
        "final_sequences = final_tokenizer.texts_to_sequences(sample_texts)\n",
        "\n",
        "final_word_index = final_tokenizer.word_index\n",
        "print('Found %s unique tokens.' % len(final_word_index))\n",
        "\n",
        "final_padded_data = pad_sequences(final_sequences, maxlen=seq_length_final)\n",
        "\n",
        "final_labels_array = np.asarray(sample_labels)\n",
        "print('Shape of data tensor:', final_padded_data.shape)\n",
        "print('Shape of label tensor:', final_labels_array.shape)\n",
        "\n",
        "shuffle_order = np.arange(final_padded_data.shape[0])\n",
        "np.random.shuffle(shuffle_order)\n",
        "final_padded_data = final_padded_data[shuffle_order]\n",
        "final_labels_array = final_labels_array[shuffle_order]\n",
        "\n",
        "x_train_final = final_padded_data[:num_train_final]\n",
        "y_train_final = final_labels_array[:num_train_final]\n",
        "x_val_final = final_padded_data[num_train_final:num_train_final + num_val_final]\n",
        "y_val_final = final_labels_array[num_train_final:num_train_final + num_val_final]"
      ],
      "metadata": {
        "colab": {
          "base_uri": "https://localhost:8080/",
          "height": 0
        },
        "id": "NlYJy_x1qcO2",
        "outputId": "be686a25-b0f2-4877-e638-f39001cb4c7c"
      },
      "execution_count": 51,
      "outputs": [
        {
          "output_type": "stream",
          "name": "stdout",
          "text": [
            "Found 10 unique tokens.\n",
            "Shape of data tensor: (3, 150)\n",
            "Shape of label tensor: (3,)\n"
          ]
        }
      ]
    },
    {
      "cell_type": "code",
      "source": [
        "x_train_final.shape"
      ],
      "metadata": {
        "colab": {
          "base_uri": "https://localhost:8080/",
          "height": 0
        },
        "id": "eTriu3-iqrZK",
        "outputId": "ad275bdd-dba3-4274-fb13-6fac75bac08b"
      },
      "execution_count": 52,
      "outputs": [
        {
          "output_type": "execute_result",
          "data": {
            "text/plain": [
              "(3, 150)"
            ]
          },
          "metadata": {},
          "execution_count": 52
        }
      ]
    },
    {
      "cell_type": "code",
      "source": [
        "x_val_final.shape"
      ],
      "metadata": {
        "colab": {
          "base_uri": "https://localhost:8080/",
          "height": 0
        },
        "id": "ex9w8_2VqwCl",
        "outputId": "eba69092-9871-48c8-a928-2f621f914c4d"
      },
      "execution_count": 53,
      "outputs": [
        {
          "output_type": "execute_result",
          "data": {
            "text/plain": [
              "(0, 150)"
            ]
          },
          "metadata": {},
          "execution_count": 53
        }
      ]
    },
    {
      "cell_type": "markdown",
      "source": [
        "Model Building :"
      ],
      "metadata": {
        "id": "OYD8QRo9q1dn"
      }
    },
    {
      "cell_type": "code",
      "source": [
        "from tensorflow.keras.models import Sequential\n",
        "from tensorflow.keras.layers import Embedding, LSTM, Dropout, Dense\n",
        "from tensorflow import keras\n",
        "\n",
        "final_lstm_model = Sequential()\n",
        "final_lstm_model.add(Embedding(vocab_cap, embed_dim, input_length=seq_length_final))\n",
        "\n",
        "final_lstm_model.add(LSTM(64, return_sequences=True, dropout=0.2, recurrent_dropout=0.2))\n",
        "final_lstm_model.add(LSTM(32, dropout=0.2, recurrent_dropout=0.2))\n",
        "\n",
        "final_lstm_model.add(Dense(64, activation='relu'))\n",
        "final_lstm_model.add(Dropout(0.5))\n",
        "final_lstm_model.add(Dense(1, activation='sigmoid'))\n",
        "\n",
        "final_lstm_model.layers[0].set_weights([pretrained_embed_matrix])\n",
        "final_lstm_model.layers[0].trainable = False\n",
        "\n",
        "final_adam = keras.optimizers.Adam(learning_rate=0.001)\n",
        "final_lstm_model.compile(optimizer=final_adam, loss='binary_crossentropy', metrics=['accuracy'])\n",
        "\n",
        "final_lstm_model.summary()"
      ],
      "metadata": {
        "colab": {
          "base_uri": "https://localhost:8080/",
          "height": 0
        },
        "id": "5cCkKI7gq2I2",
        "outputId": "456e36a6-e9ca-4e97-c418-0ce6a1889149"
      },
      "execution_count": 54,
      "outputs": [
        {
          "output_type": "stream",
          "name": "stdout",
          "text": [
            "Model: \"sequential_6\"\n",
            "_________________________________________________________________\n",
            " Layer (type)                Output Shape              Param #   \n",
            "=================================================================\n",
            " embedding_5 (Embedding)     (None, 150, 150)          1500000   \n",
            "                                                                 \n",
            " lstm_5 (LSTM)               (None, 150, 64)           55040     \n",
            "                                                                 \n",
            " lstm_6 (LSTM)               (None, 32)                12416     \n",
            "                                                                 \n",
            " dense_7 (Dense)             (None, 64)                2112      \n",
            "                                                                 \n",
            " dropout_5 (Dropout)         (None, 64)                0         \n",
            "                                                                 \n",
            " dense_8 (Dense)             (None, 1)                 65        \n",
            "                                                                 \n",
            "=================================================================\n",
            "Total params: 1,569,633\n",
            "Trainable params: 69,633\n",
            "Non-trainable params: 1,500,000\n",
            "_________________________________________________________________\n"
          ]
        }
      ]
    },
    {
      "cell_type": "code",
      "source": [
        "from tensorflow.keras.callbacks import ModelCheckpoint\n",
        "\n",
        "checkpoint_final_lstm = ModelCheckpoint(\n",
        "    filepath=\"final_lstm_model.h5\",\n",
        "    save_best_only=True,\n",
        "    monitor=\"val_loss\"\n",
        ")\n",
        "\n",
        "history_final_lstm = final_lstm_model.fit(\n",
        "    x_train_final, y_train_final,\n",
        "    epochs=10,\n",
        "    batch_size=12,\n",
        "    validation_data=(x_val_final, y_val_final),\n",
        "    callbacks=[checkpoint_final_lstm]\n",
        ")"
      ],
      "metadata": {
        "colab": {
          "base_uri": "https://localhost:8080/",
          "height": 0
        },
        "id": "-qnL2_AErA9J",
        "outputId": "59a01bb1-9041-4ebb-e3a3-3d5739253a31"
      },
      "execution_count": 55,
      "outputs": [
        {
          "output_type": "stream",
          "name": "stdout",
          "text": [
            "Epoch 1/10\n",
            "1/1 [==============================] - 7s 7s/step - loss: 0.6341 - accuracy: 1.0000\n",
            "Epoch 2/10\n",
            "1/1 [==============================] - 0s 206ms/step - loss: 0.6088 - accuracy: 0.6667\n",
            "Epoch 3/10\n",
            "1/1 [==============================] - 0s 203ms/step - loss: 0.6449 - accuracy: 0.6667\n",
            "Epoch 4/10\n",
            "1/1 [==============================] - 0s 202ms/step - loss: 0.6445 - accuracy: 0.6667\n",
            "Epoch 5/10\n",
            "1/1 [==============================] - 0s 202ms/step - loss: 0.5855 - accuracy: 0.6667\n",
            "Epoch 6/10\n",
            "1/1 [==============================] - 0s 204ms/step - loss: 0.6011 - accuracy: 0.6667\n",
            "Epoch 7/10\n",
            "1/1 [==============================] - 0s 204ms/step - loss: 0.5849 - accuracy: 0.6667\n",
            "Epoch 8/10\n",
            "1/1 [==============================] - 0s 198ms/step - loss: 0.6514 - accuracy: 0.6667\n",
            "Epoch 9/10\n",
            "1/1 [==============================] - 0s 202ms/step - loss: 0.7698 - accuracy: 0.6667\n",
            "Epoch 10/10\n",
            "1/1 [==============================] - 0s 208ms/step - loss: 0.6163 - accuracy: 0.6667\n"
          ]
        }
      ]
    },
    {
      "cell_type": "markdown",
      "source": [
        "Plotting the Accuracy and loss for training and validation"
      ],
      "metadata": {
        "id": "AxkNLtXMrPUK"
      }
    },
    {
      "cell_type": "code",
      "source": [
        "train_acc_final = history_final_lstm.history['accuracy']\n",
        "train_loss_final = history_final_lstm.history['loss']\n",
        "epochs_final = range(1, len(train_acc_final) + 1)\n",
        "\n",
        "val_acc_final = history_final_lstm.history.get('val_accuracy', None)\n",
        "val_loss_final = history_final_lstm.history.get('val_loss', None)\n",
        "\n",
        "plt.figure(figsize=(6, 4))\n",
        "plt.plot(epochs_final, train_acc_final, color=\"grey\", linestyle=\"dashed\", label=\"Training Accuracy\")\n",
        "if val_acc_final is not None:\n",
        "    plt.plot(epochs_final, val_acc_final, color=\"blue\", linestyle=\"dashed\", label=\"Validation Accuracy\")\n",
        "plt.title(\"Final_LSTM_Model: Accuracy\")\n",
        "plt.legend()\n",
        "plt.grid()\n",
        "plt.show()\n",
        "\n",
        "plt.figure(figsize=(6, 4))\n",
        "plt.plot(epochs_final, train_loss_final, color=\"grey\", linestyle=\"dashed\", label=\"Training Loss\")\n",
        "if val_loss_final is not None:\n",
        "    plt.plot(epochs_final, val_loss_final, color=\"blue\", linestyle=\"dashed\", label=\"Validation Loss\")\n",
        "plt.title(\"Final_LSTM_Model: Loss\")\n",
        "plt.legend()\n",
        "plt.grid()\n",
        "plt.show()"
      ],
      "metadata": {
        "colab": {
          "base_uri": "https://localhost:8080/",
          "height": 765
        },
        "id": "VwhfMe6vrP-E",
        "outputId": "05eed93d-5665-441d-e752-0432ab0cbee4"
      },
      "execution_count": 56,
      "outputs": [
        {
          "output_type": "display_data",
          "data": {
            "text/plain": [
              "<Figure size 600x400 with 1 Axes>"
            ],
            "image/png": "[encoded data removed]"
          },
          "metadata": {}
        },
        {
          "output_type": "display_data",
          "data": {
            "text/plain": [
              "<Figure size 600x400 with 1 Axes>"
            ],
            "image/png": "[encoded data removed]"
          },
          "metadata": {}
        }
      ]
    }
  ]
}